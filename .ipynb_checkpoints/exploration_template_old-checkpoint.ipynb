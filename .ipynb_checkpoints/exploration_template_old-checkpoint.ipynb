{
 "cells": [
  {
   "cell_type": "markdown",
   "metadata": {},
   "source": [
    "# Loan Data Exploration\n",
    "## by Prashanth Subrahmanyam\n",
    "\n",
    "## Preliminary Wrangling\n",
    "\n",
    "The loan data set provided by prosper contains data for upwards of 110K loans, with over 80 variables about each loan such as loan amount, interest rate, loan status, borrower income and so on."
   ]
  },
  {
   "cell_type": "code",
   "execution_count": 437,
   "metadata": {},
   "outputs": [],
   "source": [
    "# import all packages and set plots to be embedded inline\n",
    "import numpy as np\n",
    "import pandas as pd\n",
    "import matplotlib.pyplot as plt\n",
    "import seaborn as sb\n",
    "\n",
    "%matplotlib inline"
   ]
  },
  {
   "cell_type": "code",
   "execution_count": 438,
   "metadata": {},
   "outputs": [
    {
     "data": {
      "text/html": [
       "<div>\n",
       "<style scoped>\n",
       "    .dataframe tbody tr th:only-of-type {\n",
       "        vertical-align: middle;\n",
       "    }\n",
       "\n",
       "    .dataframe tbody tr th {\n",
       "        vertical-align: top;\n",
       "    }\n",
       "\n",
       "    .dataframe thead th {\n",
       "        text-align: right;\n",
       "    }\n",
       "</style>\n",
       "<table border=\"1\" class=\"dataframe\">\n",
       "  <thead>\n",
       "    <tr style=\"text-align: right;\">\n",
       "      <th></th>\n",
       "      <th>ListingKey</th>\n",
       "      <th>ListingNumber</th>\n",
       "      <th>ListingCreationDate</th>\n",
       "      <th>CreditGrade</th>\n",
       "      <th>Term</th>\n",
       "      <th>LoanStatus</th>\n",
       "      <th>ClosedDate</th>\n",
       "      <th>BorrowerAPR</th>\n",
       "      <th>BorrowerRate</th>\n",
       "      <th>LenderYield</th>\n",
       "      <th>...</th>\n",
       "      <th>LP_ServiceFees</th>\n",
       "      <th>LP_CollectionFees</th>\n",
       "      <th>LP_GrossPrincipalLoss</th>\n",
       "      <th>LP_NetPrincipalLoss</th>\n",
       "      <th>LP_NonPrincipalRecoverypayments</th>\n",
       "      <th>PercentFunded</th>\n",
       "      <th>Recommendations</th>\n",
       "      <th>InvestmentFromFriendsCount</th>\n",
       "      <th>InvestmentFromFriendsAmount</th>\n",
       "      <th>Investors</th>\n",
       "    </tr>\n",
       "  </thead>\n",
       "  <tbody>\n",
       "    <tr>\n",
       "      <th>0</th>\n",
       "      <td>1021339766868145413AB3B</td>\n",
       "      <td>193129</td>\n",
       "      <td>2007-08-26 19:09:29.263000000</td>\n",
       "      <td>C</td>\n",
       "      <td>36</td>\n",
       "      <td>Completed</td>\n",
       "      <td>2009-08-14 00:00:00</td>\n",
       "      <td>0.16516</td>\n",
       "      <td>0.1580</td>\n",
       "      <td>0.1380</td>\n",
       "      <td>...</td>\n",
       "      <td>-133.18</td>\n",
       "      <td>0.0</td>\n",
       "      <td>0.0</td>\n",
       "      <td>0.0</td>\n",
       "      <td>0.0</td>\n",
       "      <td>1.0</td>\n",
       "      <td>0</td>\n",
       "      <td>0</td>\n",
       "      <td>0.0</td>\n",
       "      <td>258</td>\n",
       "    </tr>\n",
       "    <tr>\n",
       "      <th>1</th>\n",
       "      <td>10273602499503308B223C1</td>\n",
       "      <td>1209647</td>\n",
       "      <td>2014-02-27 08:28:07.900000000</td>\n",
       "      <td>NaN</td>\n",
       "      <td>36</td>\n",
       "      <td>Current</td>\n",
       "      <td>NaN</td>\n",
       "      <td>0.12016</td>\n",
       "      <td>0.0920</td>\n",
       "      <td>0.0820</td>\n",
       "      <td>...</td>\n",
       "      <td>0.00</td>\n",
       "      <td>0.0</td>\n",
       "      <td>0.0</td>\n",
       "      <td>0.0</td>\n",
       "      <td>0.0</td>\n",
       "      <td>1.0</td>\n",
       "      <td>0</td>\n",
       "      <td>0</td>\n",
       "      <td>0.0</td>\n",
       "      <td>1</td>\n",
       "    </tr>\n",
       "    <tr>\n",
       "      <th>2</th>\n",
       "      <td>0EE9337825851032864889A</td>\n",
       "      <td>81716</td>\n",
       "      <td>2007-01-05 15:00:47.090000000</td>\n",
       "      <td>HR</td>\n",
       "      <td>36</td>\n",
       "      <td>Completed</td>\n",
       "      <td>2009-12-17 00:00:00</td>\n",
       "      <td>0.28269</td>\n",
       "      <td>0.2750</td>\n",
       "      <td>0.2400</td>\n",
       "      <td>...</td>\n",
       "      <td>-24.20</td>\n",
       "      <td>0.0</td>\n",
       "      <td>0.0</td>\n",
       "      <td>0.0</td>\n",
       "      <td>0.0</td>\n",
       "      <td>1.0</td>\n",
       "      <td>0</td>\n",
       "      <td>0</td>\n",
       "      <td>0.0</td>\n",
       "      <td>41</td>\n",
       "    </tr>\n",
       "    <tr>\n",
       "      <th>3</th>\n",
       "      <td>0EF5356002482715299901A</td>\n",
       "      <td>658116</td>\n",
       "      <td>2012-10-22 11:02:35.010000000</td>\n",
       "      <td>NaN</td>\n",
       "      <td>36</td>\n",
       "      <td>Current</td>\n",
       "      <td>NaN</td>\n",
       "      <td>0.12528</td>\n",
       "      <td>0.0974</td>\n",
       "      <td>0.0874</td>\n",
       "      <td>...</td>\n",
       "      <td>-108.01</td>\n",
       "      <td>0.0</td>\n",
       "      <td>0.0</td>\n",
       "      <td>0.0</td>\n",
       "      <td>0.0</td>\n",
       "      <td>1.0</td>\n",
       "      <td>0</td>\n",
       "      <td>0</td>\n",
       "      <td>0.0</td>\n",
       "      <td>158</td>\n",
       "    </tr>\n",
       "    <tr>\n",
       "      <th>4</th>\n",
       "      <td>0F023589499656230C5E3E2</td>\n",
       "      <td>909464</td>\n",
       "      <td>2013-09-14 18:38:39.097000000</td>\n",
       "      <td>NaN</td>\n",
       "      <td>36</td>\n",
       "      <td>Current</td>\n",
       "      <td>NaN</td>\n",
       "      <td>0.24614</td>\n",
       "      <td>0.2085</td>\n",
       "      <td>0.1985</td>\n",
       "      <td>...</td>\n",
       "      <td>-60.27</td>\n",
       "      <td>0.0</td>\n",
       "      <td>0.0</td>\n",
       "      <td>0.0</td>\n",
       "      <td>0.0</td>\n",
       "      <td>1.0</td>\n",
       "      <td>0</td>\n",
       "      <td>0</td>\n",
       "      <td>0.0</td>\n",
       "      <td>20</td>\n",
       "    </tr>\n",
       "  </tbody>\n",
       "</table>\n",
       "<p>5 rows × 81 columns</p>\n",
       "</div>"
      ],
      "text/plain": [
       "                ListingKey  ListingNumber            ListingCreationDate  \\\n",
       "0  1021339766868145413AB3B         193129  2007-08-26 19:09:29.263000000   \n",
       "1  10273602499503308B223C1        1209647  2014-02-27 08:28:07.900000000   \n",
       "2  0EE9337825851032864889A          81716  2007-01-05 15:00:47.090000000   \n",
       "3  0EF5356002482715299901A         658116  2012-10-22 11:02:35.010000000   \n",
       "4  0F023589499656230C5E3E2         909464  2013-09-14 18:38:39.097000000   \n",
       "\n",
       "  CreditGrade  Term LoanStatus           ClosedDate  BorrowerAPR  \\\n",
       "0           C    36  Completed  2009-08-14 00:00:00      0.16516   \n",
       "1         NaN    36    Current                  NaN      0.12016   \n",
       "2          HR    36  Completed  2009-12-17 00:00:00      0.28269   \n",
       "3         NaN    36    Current                  NaN      0.12528   \n",
       "4         NaN    36    Current                  NaN      0.24614   \n",
       "\n",
       "   BorrowerRate  LenderYield  ...  LP_ServiceFees  LP_CollectionFees  \\\n",
       "0        0.1580       0.1380  ...         -133.18                0.0   \n",
       "1        0.0920       0.0820  ...            0.00                0.0   \n",
       "2        0.2750       0.2400  ...          -24.20                0.0   \n",
       "3        0.0974       0.0874  ...         -108.01                0.0   \n",
       "4        0.2085       0.1985  ...          -60.27                0.0   \n",
       "\n",
       "   LP_GrossPrincipalLoss  LP_NetPrincipalLoss LP_NonPrincipalRecoverypayments  \\\n",
       "0                    0.0                  0.0                             0.0   \n",
       "1                    0.0                  0.0                             0.0   \n",
       "2                    0.0                  0.0                             0.0   \n",
       "3                    0.0                  0.0                             0.0   \n",
       "4                    0.0                  0.0                             0.0   \n",
       "\n",
       "   PercentFunded  Recommendations InvestmentFromFriendsCount  \\\n",
       "0            1.0                0                          0   \n",
       "1            1.0                0                          0   \n",
       "2            1.0                0                          0   \n",
       "3            1.0                0                          0   \n",
       "4            1.0                0                          0   \n",
       "\n",
       "  InvestmentFromFriendsAmount Investors  \n",
       "0                         0.0       258  \n",
       "1                         0.0         1  \n",
       "2                         0.0        41  \n",
       "3                         0.0       158  \n",
       "4                         0.0        20  \n",
       "\n",
       "[5 rows x 81 columns]"
      ]
     },
     "execution_count": 438,
     "metadata": {},
     "output_type": "execute_result"
    }
   ],
   "source": [
    "# read in and explore the dataset\n",
    "loans = pd.read_csv('prosperLoanData.csv')\n",
    "loans.head()"
   ]
  },
  {
   "cell_type": "code",
   "execution_count": 439,
   "metadata": {},
   "outputs": [
    {
     "data": {
      "text/plain": [
       "(113937, 81)"
      ]
     },
     "execution_count": 439,
     "metadata": {},
     "output_type": "execute_result"
    }
   ],
   "source": [
    "loans.shape"
   ]
  },
  {
   "cell_type": "code",
   "execution_count": 440,
   "metadata": {},
   "outputs": [
    {
     "data": {
      "text/html": [
       "<div>\n",
       "<style scoped>\n",
       "    .dataframe tbody tr th:only-of-type {\n",
       "        vertical-align: middle;\n",
       "    }\n",
       "\n",
       "    .dataframe tbody tr th {\n",
       "        vertical-align: top;\n",
       "    }\n",
       "\n",
       "    .dataframe thead th {\n",
       "        text-align: right;\n",
       "    }\n",
       "</style>\n",
       "<table border=\"1\" class=\"dataframe\">\n",
       "  <thead>\n",
       "    <tr style=\"text-align: right;\">\n",
       "      <th></th>\n",
       "      <th>ListingKey</th>\n",
       "      <th>ListingNumber</th>\n",
       "      <th>ListingCreationDate</th>\n",
       "      <th>CreditGrade</th>\n",
       "      <th>Term</th>\n",
       "      <th>LoanStatus</th>\n",
       "      <th>ClosedDate</th>\n",
       "      <th>BorrowerAPR</th>\n",
       "      <th>BorrowerRate</th>\n",
       "      <th>LenderYield</th>\n",
       "    </tr>\n",
       "  </thead>\n",
       "  <tbody>\n",
       "    <tr>\n",
       "      <th>5337</th>\n",
       "      <td>95AE3573091374458384B1C</td>\n",
       "      <td>722052</td>\n",
       "      <td>2013-03-01 21:00:47.057000000</td>\n",
       "      <td>NaN</td>\n",
       "      <td>60</td>\n",
       "      <td>Current</td>\n",
       "      <td>NaN</td>\n",
       "      <td>0.10878</td>\n",
       "      <td>0.0869</td>\n",
       "      <td>0.0769</td>\n",
       "    </tr>\n",
       "    <tr>\n",
       "      <th>76316</th>\n",
       "      <td>5A87355436896839978FE64</td>\n",
       "      <td>624393</td>\n",
       "      <td>2012-08-14 14:29:27.630000000</td>\n",
       "      <td>NaN</td>\n",
       "      <td>36</td>\n",
       "      <td>Current</td>\n",
       "      <td>NaN</td>\n",
       "      <td>0.35797</td>\n",
       "      <td>0.3177</td>\n",
       "      <td>0.3077</td>\n",
       "    </tr>\n",
       "    <tr>\n",
       "      <th>67761</th>\n",
       "      <td>D0CB358172070064944E561</td>\n",
       "      <td>820361</td>\n",
       "      <td>2013-06-25 09:00:35.020000000</td>\n",
       "      <td>NaN</td>\n",
       "      <td>36</td>\n",
       "      <td>Current</td>\n",
       "      <td>NaN</td>\n",
       "      <td>0.08325</td>\n",
       "      <td>0.0699</td>\n",
       "      <td>0.0599</td>\n",
       "    </tr>\n",
       "    <tr>\n",
       "      <th>109835</th>\n",
       "      <td>681F3384919779440D4FE76</td>\n",
       "      <td>111656</td>\n",
       "      <td>2007-03-15 17:37:44.577000000</td>\n",
       "      <td>D</td>\n",
       "      <td>36</td>\n",
       "      <td>Completed</td>\n",
       "      <td>2009-03-31 00:00:00</td>\n",
       "      <td>0.18877</td>\n",
       "      <td>0.1815</td>\n",
       "      <td>0.1615</td>\n",
       "    </tr>\n",
       "    <tr>\n",
       "      <th>34764</th>\n",
       "      <td>D76B355398104201545652A</td>\n",
       "      <td>616894</td>\n",
       "      <td>2012-07-25 19:11:04.287000000</td>\n",
       "      <td>NaN</td>\n",
       "      <td>36</td>\n",
       "      <td>Past Due (61-90 days)</td>\n",
       "      <td>NaN</td>\n",
       "      <td>0.35797</td>\n",
       "      <td>0.3177</td>\n",
       "      <td>0.3077</td>\n",
       "    </tr>\n",
       "  </tbody>\n",
       "</table>\n",
       "</div>"
      ],
      "text/plain": [
       "                     ListingKey  ListingNumber            ListingCreationDate  \\\n",
       "5337    95AE3573091374458384B1C         722052  2013-03-01 21:00:47.057000000   \n",
       "76316   5A87355436896839978FE64         624393  2012-08-14 14:29:27.630000000   \n",
       "67761   D0CB358172070064944E561         820361  2013-06-25 09:00:35.020000000   \n",
       "109835  681F3384919779440D4FE76         111656  2007-03-15 17:37:44.577000000   \n",
       "34764   D76B355398104201545652A         616894  2012-07-25 19:11:04.287000000   \n",
       "\n",
       "       CreditGrade  Term             LoanStatus           ClosedDate  \\\n",
       "5337           NaN    60                Current                  NaN   \n",
       "76316          NaN    36                Current                  NaN   \n",
       "67761          NaN    36                Current                  NaN   \n",
       "109835           D    36              Completed  2009-03-31 00:00:00   \n",
       "34764          NaN    36  Past Due (61-90 days)                  NaN   \n",
       "\n",
       "        BorrowerAPR  BorrowerRate  LenderYield  \n",
       "5337        0.10878        0.0869       0.0769  \n",
       "76316       0.35797        0.3177       0.3077  \n",
       "67761       0.08325        0.0699       0.0599  \n",
       "109835      0.18877        0.1815       0.1615  \n",
       "34764       0.35797        0.3177       0.3077  "
      ]
     },
     "execution_count": 440,
     "metadata": {},
     "output_type": "execute_result"
    }
   ],
   "source": [
    "# since there are a lot of columns, let's see the columns 10 at a time in order to better understand the data\n",
    "loans.loc[:,loans.columns[0:10]].sample(5)"
   ]
  },
  {
   "cell_type": "code",
   "execution_count": 441,
   "metadata": {},
   "outputs": [
    {
     "data": {
      "text/html": [
       "<div>\n",
       "<style scoped>\n",
       "    .dataframe tbody tr th:only-of-type {\n",
       "        vertical-align: middle;\n",
       "    }\n",
       "\n",
       "    .dataframe tbody tr th {\n",
       "        vertical-align: top;\n",
       "    }\n",
       "\n",
       "    .dataframe thead th {\n",
       "        text-align: right;\n",
       "    }\n",
       "</style>\n",
       "<table border=\"1\" class=\"dataframe\">\n",
       "  <thead>\n",
       "    <tr style=\"text-align: right;\">\n",
       "      <th></th>\n",
       "      <th>EstimatedEffectiveYield</th>\n",
       "      <th>EstimatedLoss</th>\n",
       "      <th>EstimatedReturn</th>\n",
       "      <th>ProsperRating (numeric)</th>\n",
       "      <th>ProsperRating (Alpha)</th>\n",
       "      <th>ProsperScore</th>\n",
       "      <th>ListingCategory (numeric)</th>\n",
       "      <th>BorrowerState</th>\n",
       "      <th>Occupation</th>\n",
       "      <th>EmploymentStatus</th>\n",
       "    </tr>\n",
       "  </thead>\n",
       "  <tbody>\n",
       "    <tr>\n",
       "      <th>15255</th>\n",
       "      <td>0.16717</td>\n",
       "      <td>0.0849</td>\n",
       "      <td>0.08227</td>\n",
       "      <td>4.0</td>\n",
       "      <td>C</td>\n",
       "      <td>2.0</td>\n",
       "      <td>1</td>\n",
       "      <td>MA</td>\n",
       "      <td>Sales - Retail</td>\n",
       "      <td>Employed</td>\n",
       "    </tr>\n",
       "    <tr>\n",
       "      <th>22945</th>\n",
       "      <td>0.05800</td>\n",
       "      <td>0.0150</td>\n",
       "      <td>0.05800</td>\n",
       "      <td>7.0</td>\n",
       "      <td>AA</td>\n",
       "      <td>9.0</td>\n",
       "      <td>1</td>\n",
       "      <td>PA</td>\n",
       "      <td>Professional</td>\n",
       "      <td>Full-time</td>\n",
       "    </tr>\n",
       "    <tr>\n",
       "      <th>16359</th>\n",
       "      <td>NaN</td>\n",
       "      <td>NaN</td>\n",
       "      <td>NaN</td>\n",
       "      <td>NaN</td>\n",
       "      <td>NaN</td>\n",
       "      <td>NaN</td>\n",
       "      <td>7</td>\n",
       "      <td>KY</td>\n",
       "      <td>Other</td>\n",
       "      <td>Retired</td>\n",
       "    </tr>\n",
       "    <tr>\n",
       "      <th>7817</th>\n",
       "      <td>0.13203</td>\n",
       "      <td>0.0574</td>\n",
       "      <td>0.07463</td>\n",
       "      <td>5.0</td>\n",
       "      <td>B</td>\n",
       "      <td>9.0</td>\n",
       "      <td>15</td>\n",
       "      <td>DC</td>\n",
       "      <td>Teacher</td>\n",
       "      <td>Employed</td>\n",
       "    </tr>\n",
       "    <tr>\n",
       "      <th>97953</th>\n",
       "      <td>0.28610</td>\n",
       "      <td>0.1300</td>\n",
       "      <td>0.15610</td>\n",
       "      <td>2.0</td>\n",
       "      <td>E</td>\n",
       "      <td>5.0</td>\n",
       "      <td>1</td>\n",
       "      <td>MI</td>\n",
       "      <td>Other</td>\n",
       "      <td>Full-time</td>\n",
       "    </tr>\n",
       "  </tbody>\n",
       "</table>\n",
       "</div>"
      ],
      "text/plain": [
       "       EstimatedEffectiveYield  EstimatedLoss  EstimatedReturn  \\\n",
       "15255                  0.16717         0.0849          0.08227   \n",
       "22945                  0.05800         0.0150          0.05800   \n",
       "16359                      NaN            NaN              NaN   \n",
       "7817                   0.13203         0.0574          0.07463   \n",
       "97953                  0.28610         0.1300          0.15610   \n",
       "\n",
       "       ProsperRating (numeric) ProsperRating (Alpha)  ProsperScore  \\\n",
       "15255                      4.0                     C           2.0   \n",
       "22945                      7.0                    AA           9.0   \n",
       "16359                      NaN                   NaN           NaN   \n",
       "7817                       5.0                     B           9.0   \n",
       "97953                      2.0                     E           5.0   \n",
       "\n",
       "       ListingCategory (numeric) BorrowerState      Occupation  \\\n",
       "15255                          1            MA  Sales - Retail   \n",
       "22945                          1            PA    Professional   \n",
       "16359                          7            KY           Other   \n",
       "7817                          15            DC         Teacher   \n",
       "97953                          1            MI           Other   \n",
       "\n",
       "      EmploymentStatus  \n",
       "15255         Employed  \n",
       "22945        Full-time  \n",
       "16359          Retired  \n",
       "7817          Employed  \n",
       "97953        Full-time  "
      ]
     },
     "execution_count": 441,
     "metadata": {},
     "output_type": "execute_result"
    }
   ],
   "source": [
    "loans.loc[:,loans.columns[10:20]].sample(5)"
   ]
  },
  {
   "cell_type": "code",
   "execution_count": 442,
   "metadata": {},
   "outputs": [
    {
     "data": {
      "text/html": [
       "<div>\n",
       "<style scoped>\n",
       "    .dataframe tbody tr th:only-of-type {\n",
       "        vertical-align: middle;\n",
       "    }\n",
       "\n",
       "    .dataframe tbody tr th {\n",
       "        vertical-align: top;\n",
       "    }\n",
       "\n",
       "    .dataframe thead th {\n",
       "        text-align: right;\n",
       "    }\n",
       "</style>\n",
       "<table border=\"1\" class=\"dataframe\">\n",
       "  <thead>\n",
       "    <tr style=\"text-align: right;\">\n",
       "      <th></th>\n",
       "      <th>EmploymentStatusDuration</th>\n",
       "      <th>IsBorrowerHomeowner</th>\n",
       "      <th>CurrentlyInGroup</th>\n",
       "      <th>GroupKey</th>\n",
       "      <th>DateCreditPulled</th>\n",
       "      <th>CreditScoreRangeLower</th>\n",
       "      <th>CreditScoreRangeUpper</th>\n",
       "      <th>FirstRecordedCreditLine</th>\n",
       "      <th>CurrentCreditLines</th>\n",
       "      <th>OpenCreditLines</th>\n",
       "    </tr>\n",
       "  </thead>\n",
       "  <tbody>\n",
       "    <tr>\n",
       "      <th>93300</th>\n",
       "      <td>52.0</td>\n",
       "      <td>False</td>\n",
       "      <td>False</td>\n",
       "      <td>NaN</td>\n",
       "      <td>2011-01-20 08:23:51</td>\n",
       "      <td>720.0</td>\n",
       "      <td>739.0</td>\n",
       "      <td>1996-11-27 00:00:00</td>\n",
       "      <td>8.0</td>\n",
       "      <td>8.0</td>\n",
       "    </tr>\n",
       "    <tr>\n",
       "      <th>65343</th>\n",
       "      <td>212.0</td>\n",
       "      <td>True</td>\n",
       "      <td>False</td>\n",
       "      <td>NaN</td>\n",
       "      <td>2013-12-28 17:15:08</td>\n",
       "      <td>700.0</td>\n",
       "      <td>719.0</td>\n",
       "      <td>1995-07-01 00:00:00</td>\n",
       "      <td>10.0</td>\n",
       "      <td>10.0</td>\n",
       "    </tr>\n",
       "    <tr>\n",
       "      <th>13188</th>\n",
       "      <td>21.0</td>\n",
       "      <td>False</td>\n",
       "      <td>False</td>\n",
       "      <td>NaN</td>\n",
       "      <td>2014-01-03 07:58:20</td>\n",
       "      <td>660.0</td>\n",
       "      <td>679.0</td>\n",
       "      <td>1987-04-01 00:00:00</td>\n",
       "      <td>5.0</td>\n",
       "      <td>5.0</td>\n",
       "    </tr>\n",
       "    <tr>\n",
       "      <th>25687</th>\n",
       "      <td>NaN</td>\n",
       "      <td>False</td>\n",
       "      <td>True</td>\n",
       "      <td>B0473364376920128370B13</td>\n",
       "      <td>2007-02-06 11:21:43.687000000</td>\n",
       "      <td>640.0</td>\n",
       "      <td>659.0</td>\n",
       "      <td>1988-10-17 00:00:00</td>\n",
       "      <td>NaN</td>\n",
       "      <td>NaN</td>\n",
       "    </tr>\n",
       "    <tr>\n",
       "      <th>102044</th>\n",
       "      <td>115.0</td>\n",
       "      <td>False</td>\n",
       "      <td>True</td>\n",
       "      <td>85943386927308216031C0F</td>\n",
       "      <td>2007-08-06 16:21:10.373000000</td>\n",
       "      <td>720.0</td>\n",
       "      <td>739.0</td>\n",
       "      <td>1995-09-20 00:00:00</td>\n",
       "      <td>18.0</td>\n",
       "      <td>16.0</td>\n",
       "    </tr>\n",
       "  </tbody>\n",
       "</table>\n",
       "</div>"
      ],
      "text/plain": [
       "        EmploymentStatusDuration  IsBorrowerHomeowner  CurrentlyInGroup  \\\n",
       "93300                       52.0                False             False   \n",
       "65343                      212.0                 True             False   \n",
       "13188                       21.0                False             False   \n",
       "25687                        NaN                False              True   \n",
       "102044                     115.0                False              True   \n",
       "\n",
       "                       GroupKey               DateCreditPulled  \\\n",
       "93300                       NaN            2011-01-20 08:23:51   \n",
       "65343                       NaN            2013-12-28 17:15:08   \n",
       "13188                       NaN            2014-01-03 07:58:20   \n",
       "25687   B0473364376920128370B13  2007-02-06 11:21:43.687000000   \n",
       "102044  85943386927308216031C0F  2007-08-06 16:21:10.373000000   \n",
       "\n",
       "        CreditScoreRangeLower  CreditScoreRangeUpper FirstRecordedCreditLine  \\\n",
       "93300                   720.0                  739.0     1996-11-27 00:00:00   \n",
       "65343                   700.0                  719.0     1995-07-01 00:00:00   \n",
       "13188                   660.0                  679.0     1987-04-01 00:00:00   \n",
       "25687                   640.0                  659.0     1988-10-17 00:00:00   \n",
       "102044                  720.0                  739.0     1995-09-20 00:00:00   \n",
       "\n",
       "        CurrentCreditLines  OpenCreditLines  \n",
       "93300                  8.0              8.0  \n",
       "65343                 10.0             10.0  \n",
       "13188                  5.0              5.0  \n",
       "25687                  NaN              NaN  \n",
       "102044                18.0             16.0  "
      ]
     },
     "execution_count": 442,
     "metadata": {},
     "output_type": "execute_result"
    }
   ],
   "source": [
    "loans.loc[:,loans.columns[20:30]].sample(5)"
   ]
  },
  {
   "cell_type": "code",
   "execution_count": 443,
   "metadata": {},
   "outputs": [
    {
     "data": {
      "text/html": [
       "<div>\n",
       "<style scoped>\n",
       "    .dataframe tbody tr th:only-of-type {\n",
       "        vertical-align: middle;\n",
       "    }\n",
       "\n",
       "    .dataframe tbody tr th {\n",
       "        vertical-align: top;\n",
       "    }\n",
       "\n",
       "    .dataframe thead th {\n",
       "        text-align: right;\n",
       "    }\n",
       "</style>\n",
       "<table border=\"1\" class=\"dataframe\">\n",
       "  <thead>\n",
       "    <tr style=\"text-align: right;\">\n",
       "      <th></th>\n",
       "      <th>TotalCreditLinespast7years</th>\n",
       "      <th>OpenRevolvingAccounts</th>\n",
       "      <th>OpenRevolvingMonthlyPayment</th>\n",
       "      <th>InquiriesLast6Months</th>\n",
       "      <th>TotalInquiries</th>\n",
       "      <th>CurrentDelinquencies</th>\n",
       "      <th>AmountDelinquent</th>\n",
       "      <th>DelinquenciesLast7Years</th>\n",
       "      <th>PublicRecordsLast10Years</th>\n",
       "      <th>PublicRecordsLast12Months</th>\n",
       "    </tr>\n",
       "  </thead>\n",
       "  <tbody>\n",
       "    <tr>\n",
       "      <th>46006</th>\n",
       "      <td>36.0</td>\n",
       "      <td>8</td>\n",
       "      <td>563.0</td>\n",
       "      <td>0.0</td>\n",
       "      <td>0.0</td>\n",
       "      <td>0.0</td>\n",
       "      <td>0.0</td>\n",
       "      <td>0.0</td>\n",
       "      <td>0.0</td>\n",
       "      <td>0.0</td>\n",
       "    </tr>\n",
       "    <tr>\n",
       "      <th>37907</th>\n",
       "      <td>60.0</td>\n",
       "      <td>18</td>\n",
       "      <td>1156.0</td>\n",
       "      <td>9.0</td>\n",
       "      <td>14.0</td>\n",
       "      <td>0.0</td>\n",
       "      <td>NaN</td>\n",
       "      <td>0.0</td>\n",
       "      <td>0.0</td>\n",
       "      <td>NaN</td>\n",
       "    </tr>\n",
       "    <tr>\n",
       "      <th>71541</th>\n",
       "      <td>19.0</td>\n",
       "      <td>14</td>\n",
       "      <td>528.0</td>\n",
       "      <td>0.0</td>\n",
       "      <td>0.0</td>\n",
       "      <td>0.0</td>\n",
       "      <td>0.0</td>\n",
       "      <td>0.0</td>\n",
       "      <td>0.0</td>\n",
       "      <td>0.0</td>\n",
       "    </tr>\n",
       "    <tr>\n",
       "      <th>96934</th>\n",
       "      <td>51.0</td>\n",
       "      <td>7</td>\n",
       "      <td>545.0</td>\n",
       "      <td>2.0</td>\n",
       "      <td>10.0</td>\n",
       "      <td>0.0</td>\n",
       "      <td>0.0</td>\n",
       "      <td>0.0</td>\n",
       "      <td>0.0</td>\n",
       "      <td>0.0</td>\n",
       "    </tr>\n",
       "    <tr>\n",
       "      <th>25916</th>\n",
       "      <td>23.0</td>\n",
       "      <td>4</td>\n",
       "      <td>100.0</td>\n",
       "      <td>0.0</td>\n",
       "      <td>1.0</td>\n",
       "      <td>0.0</td>\n",
       "      <td>0.0</td>\n",
       "      <td>26.0</td>\n",
       "      <td>1.0</td>\n",
       "      <td>0.0</td>\n",
       "    </tr>\n",
       "  </tbody>\n",
       "</table>\n",
       "</div>"
      ],
      "text/plain": [
       "       TotalCreditLinespast7years  OpenRevolvingAccounts  \\\n",
       "46006                        36.0                      8   \n",
       "37907                        60.0                     18   \n",
       "71541                        19.0                     14   \n",
       "96934                        51.0                      7   \n",
       "25916                        23.0                      4   \n",
       "\n",
       "       OpenRevolvingMonthlyPayment  InquiriesLast6Months  TotalInquiries  \\\n",
       "46006                        563.0                   0.0             0.0   \n",
       "37907                       1156.0                   9.0            14.0   \n",
       "71541                        528.0                   0.0             0.0   \n",
       "96934                        545.0                   2.0            10.0   \n",
       "25916                        100.0                   0.0             1.0   \n",
       "\n",
       "       CurrentDelinquencies  AmountDelinquent  DelinquenciesLast7Years  \\\n",
       "46006                   0.0               0.0                      0.0   \n",
       "37907                   0.0               NaN                      0.0   \n",
       "71541                   0.0               0.0                      0.0   \n",
       "96934                   0.0               0.0                      0.0   \n",
       "25916                   0.0               0.0                     26.0   \n",
       "\n",
       "       PublicRecordsLast10Years  PublicRecordsLast12Months  \n",
       "46006                       0.0                        0.0  \n",
       "37907                       0.0                        NaN  \n",
       "71541                       0.0                        0.0  \n",
       "96934                       0.0                        0.0  \n",
       "25916                       1.0                        0.0  "
      ]
     },
     "execution_count": 443,
     "metadata": {},
     "output_type": "execute_result"
    }
   ],
   "source": [
    "loans.loc[:,loans.columns[30:40]].sample(5)"
   ]
  },
  {
   "cell_type": "code",
   "execution_count": 444,
   "metadata": {},
   "outputs": [
    {
     "data": {
      "text/html": [
       "<div>\n",
       "<style scoped>\n",
       "    .dataframe tbody tr th:only-of-type {\n",
       "        vertical-align: middle;\n",
       "    }\n",
       "\n",
       "    .dataframe tbody tr th {\n",
       "        vertical-align: top;\n",
       "    }\n",
       "\n",
       "    .dataframe thead th {\n",
       "        text-align: right;\n",
       "    }\n",
       "</style>\n",
       "<table border=\"1\" class=\"dataframe\">\n",
       "  <thead>\n",
       "    <tr style=\"text-align: right;\">\n",
       "      <th></th>\n",
       "      <th>RevolvingCreditBalance</th>\n",
       "      <th>BankcardUtilization</th>\n",
       "      <th>AvailableBankcardCredit</th>\n",
       "      <th>TotalTrades</th>\n",
       "      <th>TradesNeverDelinquent (percentage)</th>\n",
       "      <th>TradesOpenedLast6Months</th>\n",
       "      <th>DebtToIncomeRatio</th>\n",
       "      <th>IncomeRange</th>\n",
       "      <th>IncomeVerifiable</th>\n",
       "      <th>StatedMonthlyIncome</th>\n",
       "    </tr>\n",
       "  </thead>\n",
       "  <tbody>\n",
       "    <tr>\n",
       "      <th>86983</th>\n",
       "      <td>483511.0</td>\n",
       "      <td>0.89</td>\n",
       "      <td>54181.0</td>\n",
       "      <td>39.0</td>\n",
       "      <td>1.00</td>\n",
       "      <td>2.0</td>\n",
       "      <td>0.06</td>\n",
       "      <td>$100,000+</td>\n",
       "      <td>True</td>\n",
       "      <td>22083.333333</td>\n",
       "    </tr>\n",
       "    <tr>\n",
       "      <th>87741</th>\n",
       "      <td>49960.0</td>\n",
       "      <td>0.54</td>\n",
       "      <td>32827.0</td>\n",
       "      <td>50.0</td>\n",
       "      <td>1.00</td>\n",
       "      <td>1.0</td>\n",
       "      <td>0.39</td>\n",
       "      <td>$75,000-99,999</td>\n",
       "      <td>True</td>\n",
       "      <td>7083.333333</td>\n",
       "    </tr>\n",
       "    <tr>\n",
       "      <th>111442</th>\n",
       "      <td>77.0</td>\n",
       "      <td>0.07</td>\n",
       "      <td>923.0</td>\n",
       "      <td>19.0</td>\n",
       "      <td>0.84</td>\n",
       "      <td>2.0</td>\n",
       "      <td>NaN</td>\n",
       "      <td>$50,000-74,999</td>\n",
       "      <td>False</td>\n",
       "      <td>4166.666667</td>\n",
       "    </tr>\n",
       "    <tr>\n",
       "      <th>5935</th>\n",
       "      <td>89686.0</td>\n",
       "      <td>0.91</td>\n",
       "      <td>8215.0</td>\n",
       "      <td>47.0</td>\n",
       "      <td>1.00</td>\n",
       "      <td>0.0</td>\n",
       "      <td>0.20</td>\n",
       "      <td>$100,000+</td>\n",
       "      <td>True</td>\n",
       "      <td>12500.000000</td>\n",
       "    </tr>\n",
       "    <tr>\n",
       "      <th>87983</th>\n",
       "      <td>346.0</td>\n",
       "      <td>0.03</td>\n",
       "      <td>9954.0</td>\n",
       "      <td>7.0</td>\n",
       "      <td>0.66</td>\n",
       "      <td>1.0</td>\n",
       "      <td>0.40</td>\n",
       "      <td>$1-24,999</td>\n",
       "      <td>True</td>\n",
       "      <td>2000.000000</td>\n",
       "    </tr>\n",
       "  </tbody>\n",
       "</table>\n",
       "</div>"
      ],
      "text/plain": [
       "        RevolvingCreditBalance  BankcardUtilization  AvailableBankcardCredit  \\\n",
       "86983                 483511.0                 0.89                  54181.0   \n",
       "87741                  49960.0                 0.54                  32827.0   \n",
       "111442                    77.0                 0.07                    923.0   \n",
       "5935                   89686.0                 0.91                   8215.0   \n",
       "87983                    346.0                 0.03                   9954.0   \n",
       "\n",
       "        TotalTrades  TradesNeverDelinquent (percentage)  \\\n",
       "86983          39.0                                1.00   \n",
       "87741          50.0                                1.00   \n",
       "111442         19.0                                0.84   \n",
       "5935           47.0                                1.00   \n",
       "87983           7.0                                0.66   \n",
       "\n",
       "        TradesOpenedLast6Months  DebtToIncomeRatio     IncomeRange  \\\n",
       "86983                       2.0               0.06       $100,000+   \n",
       "87741                       1.0               0.39  $75,000-99,999   \n",
       "111442                      2.0                NaN  $50,000-74,999   \n",
       "5935                        0.0               0.20       $100,000+   \n",
       "87983                       1.0               0.40       $1-24,999   \n",
       "\n",
       "        IncomeVerifiable  StatedMonthlyIncome  \n",
       "86983               True         22083.333333  \n",
       "87741               True          7083.333333  \n",
       "111442             False          4166.666667  \n",
       "5935                True         12500.000000  \n",
       "87983               True          2000.000000  "
      ]
     },
     "execution_count": 444,
     "metadata": {},
     "output_type": "execute_result"
    }
   ],
   "source": [
    "loans.loc[:,loans.columns[40:50]].sample(5)"
   ]
  },
  {
   "cell_type": "code",
   "execution_count": 445,
   "metadata": {},
   "outputs": [
    {
     "data": {
      "text/html": [
       "<div>\n",
       "<style scoped>\n",
       "    .dataframe tbody tr th:only-of-type {\n",
       "        vertical-align: middle;\n",
       "    }\n",
       "\n",
       "    .dataframe tbody tr th {\n",
       "        vertical-align: top;\n",
       "    }\n",
       "\n",
       "    .dataframe thead th {\n",
       "        text-align: right;\n",
       "    }\n",
       "</style>\n",
       "<table border=\"1\" class=\"dataframe\">\n",
       "  <thead>\n",
       "    <tr style=\"text-align: right;\">\n",
       "      <th></th>\n",
       "      <th>LoanKey</th>\n",
       "      <th>TotalProsperLoans</th>\n",
       "      <th>TotalProsperPaymentsBilled</th>\n",
       "      <th>OnTimeProsperPayments</th>\n",
       "      <th>ProsperPaymentsLessThanOneMonthLate</th>\n",
       "      <th>ProsperPaymentsOneMonthPlusLate</th>\n",
       "      <th>ProsperPrincipalBorrowed</th>\n",
       "      <th>ProsperPrincipalOutstanding</th>\n",
       "      <th>ScorexChangeAtTimeOfListing</th>\n",
       "      <th>LoanCurrentDaysDelinquent</th>\n",
       "    </tr>\n",
       "  </thead>\n",
       "  <tbody>\n",
       "    <tr>\n",
       "      <th>13831</th>\n",
       "      <td>40DB3590774180471018C1E</td>\n",
       "      <td>1.0</td>\n",
       "      <td>8.0</td>\n",
       "      <td>8.0</td>\n",
       "      <td>0.0</td>\n",
       "      <td>0.0</td>\n",
       "      <td>4500.0</td>\n",
       "      <td>3649.24</td>\n",
       "      <td>-12.0</td>\n",
       "      <td>1140</td>\n",
       "    </tr>\n",
       "    <tr>\n",
       "      <th>30637</th>\n",
       "      <td>FDDE36055601664458AB481</td>\n",
       "      <td>NaN</td>\n",
       "      <td>NaN</td>\n",
       "      <td>NaN</td>\n",
       "      <td>NaN</td>\n",
       "      <td>NaN</td>\n",
       "      <td>NaN</td>\n",
       "      <td>NaN</td>\n",
       "      <td>NaN</td>\n",
       "      <td>0</td>\n",
       "    </tr>\n",
       "    <tr>\n",
       "      <th>19714</th>\n",
       "      <td>13C53698847376891DF1049</td>\n",
       "      <td>1.0</td>\n",
       "      <td>10.0</td>\n",
       "      <td>10.0</td>\n",
       "      <td>0.0</td>\n",
       "      <td>0.0</td>\n",
       "      <td>4000.0</td>\n",
       "      <td>3184.05</td>\n",
       "      <td>NaN</td>\n",
       "      <td>0</td>\n",
       "    </tr>\n",
       "    <tr>\n",
       "      <th>47577</th>\n",
       "      <td>A7C736115624525716E7530</td>\n",
       "      <td>3.0</td>\n",
       "      <td>33.0</td>\n",
       "      <td>33.0</td>\n",
       "      <td>0.0</td>\n",
       "      <td>0.0</td>\n",
       "      <td>13900.0</td>\n",
       "      <td>0.01</td>\n",
       "      <td>86.0</td>\n",
       "      <td>0</td>\n",
       "    </tr>\n",
       "    <tr>\n",
       "      <th>8117</th>\n",
       "      <td>DEA63706054711035FE0C80</td>\n",
       "      <td>NaN</td>\n",
       "      <td>NaN</td>\n",
       "      <td>NaN</td>\n",
       "      <td>NaN</td>\n",
       "      <td>NaN</td>\n",
       "      <td>NaN</td>\n",
       "      <td>NaN</td>\n",
       "      <td>NaN</td>\n",
       "      <td>0</td>\n",
       "    </tr>\n",
       "  </tbody>\n",
       "</table>\n",
       "</div>"
      ],
      "text/plain": [
       "                       LoanKey  TotalProsperLoans  TotalProsperPaymentsBilled  \\\n",
       "13831  40DB3590774180471018C1E                1.0                         8.0   \n",
       "30637  FDDE36055601664458AB481                NaN                         NaN   \n",
       "19714  13C53698847376891DF1049                1.0                        10.0   \n",
       "47577  A7C736115624525716E7530                3.0                        33.0   \n",
       "8117   DEA63706054711035FE0C80                NaN                         NaN   \n",
       "\n",
       "       OnTimeProsperPayments  ProsperPaymentsLessThanOneMonthLate  \\\n",
       "13831                    8.0                                  0.0   \n",
       "30637                    NaN                                  NaN   \n",
       "19714                   10.0                                  0.0   \n",
       "47577                   33.0                                  0.0   \n",
       "8117                     NaN                                  NaN   \n",
       "\n",
       "       ProsperPaymentsOneMonthPlusLate  ProsperPrincipalBorrowed  \\\n",
       "13831                              0.0                    4500.0   \n",
       "30637                              NaN                       NaN   \n",
       "19714                              0.0                    4000.0   \n",
       "47577                              0.0                   13900.0   \n",
       "8117                               NaN                       NaN   \n",
       "\n",
       "       ProsperPrincipalOutstanding  ScorexChangeAtTimeOfListing  \\\n",
       "13831                      3649.24                        -12.0   \n",
       "30637                          NaN                          NaN   \n",
       "19714                      3184.05                          NaN   \n",
       "47577                         0.01                         86.0   \n",
       "8117                           NaN                          NaN   \n",
       "\n",
       "       LoanCurrentDaysDelinquent  \n",
       "13831                       1140  \n",
       "30637                          0  \n",
       "19714                          0  \n",
       "47577                          0  \n",
       "8117                           0  "
      ]
     },
     "execution_count": 445,
     "metadata": {},
     "output_type": "execute_result"
    }
   ],
   "source": [
    "loans.loc[:,loans.columns[50:60]].sample(5)"
   ]
  },
  {
   "cell_type": "code",
   "execution_count": 446,
   "metadata": {},
   "outputs": [
    {
     "data": {
      "text/html": [
       "<div>\n",
       "<style scoped>\n",
       "    .dataframe tbody tr th:only-of-type {\n",
       "        vertical-align: middle;\n",
       "    }\n",
       "\n",
       "    .dataframe tbody tr th {\n",
       "        vertical-align: top;\n",
       "    }\n",
       "\n",
       "    .dataframe thead th {\n",
       "        text-align: right;\n",
       "    }\n",
       "</style>\n",
       "<table border=\"1\" class=\"dataframe\">\n",
       "  <thead>\n",
       "    <tr style=\"text-align: right;\">\n",
       "      <th></th>\n",
       "      <th>LoanFirstDefaultedCycleNumber</th>\n",
       "      <th>LoanMonthsSinceOrigination</th>\n",
       "      <th>LoanNumber</th>\n",
       "      <th>LoanOriginalAmount</th>\n",
       "      <th>LoanOriginationDate</th>\n",
       "      <th>LoanOriginationQuarter</th>\n",
       "      <th>MemberKey</th>\n",
       "      <th>MonthlyLoanPayment</th>\n",
       "      <th>LP_CustomerPayments</th>\n",
       "      <th>LP_CustomerPrincipalPayments</th>\n",
       "    </tr>\n",
       "  </thead>\n",
       "  <tbody>\n",
       "    <tr>\n",
       "      <th>78237</th>\n",
       "      <td>NaN</td>\n",
       "      <td>31</td>\n",
       "      <td>51976</td>\n",
       "      <td>5000</td>\n",
       "      <td>2011-08-04 00:00:00</td>\n",
       "      <td>Q3 2011</td>\n",
       "      <td>177934817878934812E27F1</td>\n",
       "      <td>162.02</td>\n",
       "      <td>5537.8800</td>\n",
       "      <td>4999.99</td>\n",
       "    </tr>\n",
       "    <tr>\n",
       "      <th>70086</th>\n",
       "      <td>NaN</td>\n",
       "      <td>3</td>\n",
       "      <td>124456</td>\n",
       "      <td>13000</td>\n",
       "      <td>2013-12-31 00:00:00</td>\n",
       "      <td>Q4 2013</td>\n",
       "      <td>AA933701876187835C9391C</td>\n",
       "      <td>324.83</td>\n",
       "      <td>643.5162</td>\n",
       "      <td>288.95</td>\n",
       "    </tr>\n",
       "    <tr>\n",
       "      <th>77211</th>\n",
       "      <td>NaN</td>\n",
       "      <td>74</td>\n",
       "      <td>24277</td>\n",
       "      <td>7000</td>\n",
       "      <td>2008-01-03 00:00:00</td>\n",
       "      <td>Q1 2008</td>\n",
       "      <td>340634090779138018BFE68</td>\n",
       "      <td>216.14</td>\n",
       "      <td>7358.6500</td>\n",
       "      <td>7000.00</td>\n",
       "    </tr>\n",
       "    <tr>\n",
       "      <th>96816</th>\n",
       "      <td>NaN</td>\n",
       "      <td>4</td>\n",
       "      <td>108678</td>\n",
       "      <td>10000</td>\n",
       "      <td>2013-11-06 00:00:00</td>\n",
       "      <td>Q4 2013</td>\n",
       "      <td>F95636959243811056FAE8D</td>\n",
       "      <td>282.48</td>\n",
       "      <td>847.4400</td>\n",
       "      <td>270.56</td>\n",
       "    </tr>\n",
       "    <tr>\n",
       "      <th>18452</th>\n",
       "      <td>NaN</td>\n",
       "      <td>41</td>\n",
       "      <td>44886</td>\n",
       "      <td>10000</td>\n",
       "      <td>2010-10-20 00:00:00</td>\n",
       "      <td>Q4 2010</td>\n",
       "      <td>6F4C3364565643020BAD4A7</td>\n",
       "      <td>340.08</td>\n",
       "      <td>11853.3800</td>\n",
       "      <td>10000.00</td>\n",
       "    </tr>\n",
       "  </tbody>\n",
       "</table>\n",
       "</div>"
      ],
      "text/plain": [
       "       LoanFirstDefaultedCycleNumber  LoanMonthsSinceOrigination  LoanNumber  \\\n",
       "78237                            NaN                          31       51976   \n",
       "70086                            NaN                           3      124456   \n",
       "77211                            NaN                          74       24277   \n",
       "96816                            NaN                           4      108678   \n",
       "18452                            NaN                          41       44886   \n",
       "\n",
       "       LoanOriginalAmount  LoanOriginationDate LoanOriginationQuarter  \\\n",
       "78237                5000  2011-08-04 00:00:00                Q3 2011   \n",
       "70086               13000  2013-12-31 00:00:00                Q4 2013   \n",
       "77211                7000  2008-01-03 00:00:00                Q1 2008   \n",
       "96816               10000  2013-11-06 00:00:00                Q4 2013   \n",
       "18452               10000  2010-10-20 00:00:00                Q4 2010   \n",
       "\n",
       "                     MemberKey  MonthlyLoanPayment  LP_CustomerPayments  \\\n",
       "78237  177934817878934812E27F1              162.02            5537.8800   \n",
       "70086  AA933701876187835C9391C              324.83             643.5162   \n",
       "77211  340634090779138018BFE68              216.14            7358.6500   \n",
       "96816  F95636959243811056FAE8D              282.48             847.4400   \n",
       "18452  6F4C3364565643020BAD4A7              340.08           11853.3800   \n",
       "\n",
       "       LP_CustomerPrincipalPayments  \n",
       "78237                       4999.99  \n",
       "70086                        288.95  \n",
       "77211                       7000.00  \n",
       "96816                        270.56  \n",
       "18452                      10000.00  "
      ]
     },
     "execution_count": 446,
     "metadata": {},
     "output_type": "execute_result"
    }
   ],
   "source": [
    "loans.loc[:,loans.columns[60:70]].sample(5)"
   ]
  },
  {
   "cell_type": "code",
   "execution_count": 447,
   "metadata": {},
   "outputs": [
    {
     "data": {
      "text/html": [
       "<div>\n",
       "<style scoped>\n",
       "    .dataframe tbody tr th:only-of-type {\n",
       "        vertical-align: middle;\n",
       "    }\n",
       "\n",
       "    .dataframe tbody tr th {\n",
       "        vertical-align: top;\n",
       "    }\n",
       "\n",
       "    .dataframe thead th {\n",
       "        text-align: right;\n",
       "    }\n",
       "</style>\n",
       "<table border=\"1\" class=\"dataframe\">\n",
       "  <thead>\n",
       "    <tr style=\"text-align: right;\">\n",
       "      <th></th>\n",
       "      <th>LP_InterestandFees</th>\n",
       "      <th>LP_ServiceFees</th>\n",
       "      <th>LP_CollectionFees</th>\n",
       "      <th>LP_GrossPrincipalLoss</th>\n",
       "      <th>LP_NetPrincipalLoss</th>\n",
       "      <th>LP_NonPrincipalRecoverypayments</th>\n",
       "      <th>PercentFunded</th>\n",
       "      <th>Recommendations</th>\n",
       "      <th>InvestmentFromFriendsCount</th>\n",
       "      <th>InvestmentFromFriendsAmount</th>\n",
       "      <th>Investors</th>\n",
       "    </tr>\n",
       "  </thead>\n",
       "  <tbody>\n",
       "    <tr>\n",
       "      <th>86777</th>\n",
       "      <td>1207.8500</td>\n",
       "      <td>-33.55</td>\n",
       "      <td>0.00</td>\n",
       "      <td>0.00</td>\n",
       "      <td>0.00</td>\n",
       "      <td>0.0</td>\n",
       "      <td>1.0</td>\n",
       "      <td>0</td>\n",
       "      <td>0</td>\n",
       "      <td>0.0</td>\n",
       "      <td>91</td>\n",
       "    </tr>\n",
       "    <tr>\n",
       "      <th>96583</th>\n",
       "      <td>218.5841</td>\n",
       "      <td>-11.51</td>\n",
       "      <td>0.00</td>\n",
       "      <td>0.00</td>\n",
       "      <td>0.00</td>\n",
       "      <td>0.0</td>\n",
       "      <td>1.0</td>\n",
       "      <td>0</td>\n",
       "      <td>0</td>\n",
       "      <td>0.0</td>\n",
       "      <td>1</td>\n",
       "    </tr>\n",
       "    <tr>\n",
       "      <th>105187</th>\n",
       "      <td>857.6800</td>\n",
       "      <td>-57.75</td>\n",
       "      <td>0.00</td>\n",
       "      <td>0.00</td>\n",
       "      <td>0.00</td>\n",
       "      <td>0.0</td>\n",
       "      <td>1.0</td>\n",
       "      <td>0</td>\n",
       "      <td>0</td>\n",
       "      <td>0.0</td>\n",
       "      <td>131</td>\n",
       "    </tr>\n",
       "    <tr>\n",
       "      <th>73652</th>\n",
       "      <td>674.9900</td>\n",
       "      <td>-25.96</td>\n",
       "      <td>0.00</td>\n",
       "      <td>0.00</td>\n",
       "      <td>0.00</td>\n",
       "      <td>0.0</td>\n",
       "      <td>1.0</td>\n",
       "      <td>0</td>\n",
       "      <td>0</td>\n",
       "      <td>0.0</td>\n",
       "      <td>36</td>\n",
       "    </tr>\n",
       "    <tr>\n",
       "      <th>26669</th>\n",
       "      <td>772.2900</td>\n",
       "      <td>-33.92</td>\n",
       "      <td>-64.05</td>\n",
       "      <td>1328.49</td>\n",
       "      <td>1388.49</td>\n",
       "      <td>0.0</td>\n",
       "      <td>1.0</td>\n",
       "      <td>0</td>\n",
       "      <td>0</td>\n",
       "      <td>0.0</td>\n",
       "      <td>114</td>\n",
       "    </tr>\n",
       "  </tbody>\n",
       "</table>\n",
       "</div>"
      ],
      "text/plain": [
       "        LP_InterestandFees  LP_ServiceFees  LP_CollectionFees  \\\n",
       "86777            1207.8500          -33.55               0.00   \n",
       "96583             218.5841          -11.51               0.00   \n",
       "105187            857.6800          -57.75               0.00   \n",
       "73652             674.9900          -25.96               0.00   \n",
       "26669             772.2900          -33.92             -64.05   \n",
       "\n",
       "        LP_GrossPrincipalLoss  LP_NetPrincipalLoss  \\\n",
       "86777                    0.00                 0.00   \n",
       "96583                    0.00                 0.00   \n",
       "105187                   0.00                 0.00   \n",
       "73652                    0.00                 0.00   \n",
       "26669                 1328.49              1388.49   \n",
       "\n",
       "        LP_NonPrincipalRecoverypayments  PercentFunded  Recommendations  \\\n",
       "86777                               0.0            1.0                0   \n",
       "96583                               0.0            1.0                0   \n",
       "105187                              0.0            1.0                0   \n",
       "73652                               0.0            1.0                0   \n",
       "26669                               0.0            1.0                0   \n",
       "\n",
       "        InvestmentFromFriendsCount  InvestmentFromFriendsAmount  Investors  \n",
       "86777                            0                          0.0         91  \n",
       "96583                            0                          0.0          1  \n",
       "105187                           0                          0.0        131  \n",
       "73652                            0                          0.0         36  \n",
       "26669                            0                          0.0        114  "
      ]
     },
     "execution_count": 447,
     "metadata": {},
     "output_type": "execute_result"
    }
   ],
   "source": [
    "loans.loc[:,loans.columns[70:81]].sample(5)"
   ]
  },
  {
   "cell_type": "code",
   "execution_count": 448,
   "metadata": {},
   "outputs": [
    {
     "name": "stdout",
     "output_type": "stream",
     "text": [
      "<class 'pandas.core.frame.DataFrame'>\n",
      "RangeIndex: 113937 entries, 0 to 113936\n",
      "Data columns (total 81 columns):\n",
      "ListingKey                             113937 non-null object\n",
      "ListingNumber                          113937 non-null int64\n",
      "ListingCreationDate                    113937 non-null object\n",
      "CreditGrade                            28953 non-null object\n",
      "Term                                   113937 non-null int64\n",
      "LoanStatus                             113937 non-null object\n",
      "ClosedDate                             55089 non-null object\n",
      "BorrowerAPR                            113912 non-null float64\n",
      "BorrowerRate                           113937 non-null float64\n",
      "LenderYield                            113937 non-null float64\n",
      "EstimatedEffectiveYield                84853 non-null float64\n",
      "EstimatedLoss                          84853 non-null float64\n",
      "EstimatedReturn                        84853 non-null float64\n",
      "ProsperRating (numeric)                84853 non-null float64\n",
      "ProsperRating (Alpha)                  84853 non-null object\n",
      "ProsperScore                           84853 non-null float64\n",
      "ListingCategory (numeric)              113937 non-null int64\n",
      "BorrowerState                          108422 non-null object\n",
      "Occupation                             110349 non-null object\n",
      "EmploymentStatus                       111682 non-null object\n",
      "EmploymentStatusDuration               106312 non-null float64\n",
      "IsBorrowerHomeowner                    113937 non-null bool\n",
      "CurrentlyInGroup                       113937 non-null bool\n",
      "GroupKey                               13341 non-null object\n",
      "DateCreditPulled                       113937 non-null object\n",
      "CreditScoreRangeLower                  113346 non-null float64\n",
      "CreditScoreRangeUpper                  113346 non-null float64\n",
      "FirstRecordedCreditLine                113240 non-null object\n",
      "CurrentCreditLines                     106333 non-null float64\n",
      "OpenCreditLines                        106333 non-null float64\n",
      "TotalCreditLinespast7years             113240 non-null float64\n",
      "OpenRevolvingAccounts                  113937 non-null int64\n",
      "OpenRevolvingMonthlyPayment            113937 non-null float64\n",
      "InquiriesLast6Months                   113240 non-null float64\n",
      "TotalInquiries                         112778 non-null float64\n",
      "CurrentDelinquencies                   113240 non-null float64\n",
      "AmountDelinquent                       106315 non-null float64\n",
      "DelinquenciesLast7Years                112947 non-null float64\n",
      "PublicRecordsLast10Years               113240 non-null float64\n",
      "PublicRecordsLast12Months              106333 non-null float64\n",
      "RevolvingCreditBalance                 106333 non-null float64\n",
      "BankcardUtilization                    106333 non-null float64\n",
      "AvailableBankcardCredit                106393 non-null float64\n",
      "TotalTrades                            106393 non-null float64\n",
      "TradesNeverDelinquent (percentage)     106393 non-null float64\n",
      "TradesOpenedLast6Months                106393 non-null float64\n",
      "DebtToIncomeRatio                      105383 non-null float64\n",
      "IncomeRange                            113937 non-null object\n",
      "IncomeVerifiable                       113937 non-null bool\n",
      "StatedMonthlyIncome                    113937 non-null float64\n",
      "LoanKey                                113937 non-null object\n",
      "TotalProsperLoans                      22085 non-null float64\n",
      "TotalProsperPaymentsBilled             22085 non-null float64\n",
      "OnTimeProsperPayments                  22085 non-null float64\n",
      "ProsperPaymentsLessThanOneMonthLate    22085 non-null float64\n",
      "ProsperPaymentsOneMonthPlusLate        22085 non-null float64\n",
      "ProsperPrincipalBorrowed               22085 non-null float64\n",
      "ProsperPrincipalOutstanding            22085 non-null float64\n",
      "ScorexChangeAtTimeOfListing            18928 non-null float64\n",
      "LoanCurrentDaysDelinquent              113937 non-null int64\n",
      "LoanFirstDefaultedCycleNumber          16952 non-null float64\n",
      "LoanMonthsSinceOrigination             113937 non-null int64\n",
      "LoanNumber                             113937 non-null int64\n",
      "LoanOriginalAmount                     113937 non-null int64\n",
      "LoanOriginationDate                    113937 non-null object\n",
      "LoanOriginationQuarter                 113937 non-null object\n",
      "MemberKey                              113937 non-null object\n",
      "MonthlyLoanPayment                     113937 non-null float64\n",
      "LP_CustomerPayments                    113937 non-null float64\n",
      "LP_CustomerPrincipalPayments           113937 non-null float64\n",
      "LP_InterestandFees                     113937 non-null float64\n",
      "LP_ServiceFees                         113937 non-null float64\n",
      "LP_CollectionFees                      113937 non-null float64\n",
      "LP_GrossPrincipalLoss                  113937 non-null float64\n",
      "LP_NetPrincipalLoss                    113937 non-null float64\n",
      "LP_NonPrincipalRecoverypayments        113937 non-null float64\n",
      "PercentFunded                          113937 non-null float64\n",
      "Recommendations                        113937 non-null int64\n",
      "InvestmentFromFriendsCount             113937 non-null int64\n",
      "InvestmentFromFriendsAmount            113937 non-null float64\n",
      "Investors                              113937 non-null int64\n",
      "dtypes: bool(3), float64(50), int64(11), object(17)\n",
      "memory usage: 68.1+ MB\n"
     ]
    }
   ],
   "source": [
    "# get info about the different columns\n",
    "loans.info()"
   ]
  },
  {
   "cell_type": "markdown",
   "metadata": {},
   "source": [
    "From the description of the structure of the data, we are interested in only the below variables for this exploration.\n",
    "- "
   ]
  },
  {
   "cell_type": "code",
   "execution_count": 449,
   "metadata": {},
   "outputs": [
    {
     "name": "stdout",
     "output_type": "stream",
     "text": [
      "(0, 81)\n",
      "(0, 81)\n"
     ]
    }
   ],
   "source": [
    "# Trying to understand Interest Rates and Yield.\n",
    "# Are these rates always in the order BorrowerAPR > BorrowerRate > LenderYield\n",
    "print(loans.query('BorrowerAPR < BorrowerRate').shape)\n",
    "print(loans.query('BorrowerRate < LenderYield').shape)"
   ]
  },
  {
   "cell_type": "code",
   "execution_count": 450,
   "metadata": {},
   "outputs": [
    {
     "name": "stdout",
     "output_type": "stream",
     "text": [
      "['C' nan 'HR' 'AA' 'D' 'B' 'E' 'A' 'NC']\n",
      "[nan 'A' 'D' 'B' 'E' 'C' 'AA' 'HR']\n"
     ]
    }
   ],
   "source": [
    "# Understand the 2 rating systems\n",
    "print(loans.loc[:,'CreditGrade'].unique())\n",
    "print(loans.loc[:,'ProsperRating (Alpha)'].unique())"
   ]
  },
  {
   "cell_type": "code",
   "execution_count": 451,
   "metadata": {},
   "outputs": [
    {
     "name": "stdout",
     "output_type": "stream",
     "text": [
      "1094 days 04:32:46.493000 \n",
      " 0 days 09:43:12.187000 \n",
      " 11 days 19:10:55.969021\n"
     ]
    }
   ],
   "source": [
    "# Is there much difference between listing creation and loan origination?\n",
    "# loans.loc[:,['ListingCreationDate', 'LoanOriginationDate']].sample(10)\n",
    "listing_to_loan_dates = pd.to_datetime(loans['LoanOriginationDate']) - pd.to_datetime(loans['ListingCreationDate'])\n",
    "print(listing_to_loan_dates.max(), '\\n', listing_to_loan_dates.min(), '\\n', listing_to_loan_dates.mean())"
   ]
  },
  {
   "cell_type": "code",
   "execution_count": 452,
   "metadata": {},
   "outputs": [
    {
     "data": {
      "text/plain": [
       "array(['Other', 'Professional', 'Skilled Labor', 'Executive',\n",
       "       'Sales - Retail', 'Laborer', 'Food Service', 'Fireman',\n",
       "       'Waiter/Waitress', 'Construction', 'Computer Programmer',\n",
       "       'Sales - Commission', 'Retail Management', 'Engineer - Mechanical',\n",
       "       'Military Enlisted', 'Clerical', nan, 'Teacher', 'Clergy',\n",
       "       'Accountant/CPA', 'Attorney', 'Nurse (RN)', 'Analyst',\n",
       "       \"Nurse's Aide\", 'Investor', 'Realtor', 'Flight Attendant',\n",
       "       'Nurse (LPN)', 'Military Officer', 'Food Service Management',\n",
       "       'Truck Driver', 'Administrative Assistant',\n",
       "       'Police Officer/Correction Officer', 'Social Worker',\n",
       "       'Tradesman - Mechanic', 'Medical Technician', 'Professor',\n",
       "       'Postal Service', 'Civil Service', 'Pharmacist',\n",
       "       'Tradesman - Electrician', 'Scientist', 'Dentist',\n",
       "       'Engineer - Electrical', 'Architect', 'Landscaping',\n",
       "       'Tradesman - Carpenter', 'Bus Driver', 'Tradesman - Plumber',\n",
       "       'Engineer - Chemical', 'Doctor', 'Chemist',\n",
       "       'Student - College Senior', 'Principal', \"Teacher's Aide\",\n",
       "       'Pilot - Private/Commercial', 'Religious', 'Homemaker',\n",
       "       'Student - College Graduate Student', 'Student - Technical School',\n",
       "       'Psychologist', 'Biologist', 'Student - College Sophomore',\n",
       "       'Judge', 'Student - College Junior', 'Car Dealer',\n",
       "       'Student - Community College', 'Student - College Freshman'],\n",
       "      dtype=object)"
      ]
     },
     "execution_count": 452,
     "metadata": {},
     "output_type": "execute_result"
    }
   ],
   "source": [
    "# What were the occupations specified\n",
    "loans.loc[:,'Occupation'].unique()"
   ]
  },
  {
   "cell_type": "code",
   "execution_count": 453,
   "metadata": {},
   "outputs": [
    {
     "data": {
      "text/plain": [
       "Employed         67322\n",
       "Full-time        26355\n",
       "Self-employed     6134\n",
       "Not available     5347\n",
       "Other             3806\n",
       "Part-time         1088\n",
       "Not employed       835\n",
       "Retired            795\n",
       "Name: EmploymentStatus, dtype: int64"
      ]
     },
     "execution_count": 453,
     "metadata": {},
     "output_type": "execute_result"
    }
   ],
   "source": [
    "# What were the employment statuses specified?\n",
    "loans.loc[:,'EmploymentStatus'].value_counts()"
   ]
  },
  {
   "cell_type": "code",
   "execution_count": 454,
   "metadata": {},
   "outputs": [
    {
     "data": {
      "text/plain": [
       "1     58308\n",
       "0     16965\n",
       "7     10494\n",
       "2      7433\n",
       "3      7189\n",
       "6      2572\n",
       "4      2395\n",
       "13     1996\n",
       "15     1522\n",
       "18      885\n",
       "14      876\n",
       "20      771\n",
       "19      768\n",
       "5       756\n",
       "16      304\n",
       "11      217\n",
       "8       199\n",
       "10       91\n",
       "9        85\n",
       "12       59\n",
       "17       52\n",
       "Name: ListingCategory (numeric), dtype: int64"
      ]
     },
     "execution_count": 454,
     "metadata": {},
     "output_type": "execute_result"
    }
   ],
   "source": [
    "# How does the data look for Listing Categories\n",
    "loans.loc[:,'ListingCategory (numeric)'].value_counts()"
   ]
  },
  {
   "cell_type": "code",
   "execution_count": 455,
   "metadata": {},
   "outputs": [
    {
     "data": {
      "text/html": [
       "<div>\n",
       "<style scoped>\n",
       "    .dataframe tbody tr th:only-of-type {\n",
       "        vertical-align: middle;\n",
       "    }\n",
       "\n",
       "    .dataframe tbody tr th {\n",
       "        vertical-align: top;\n",
       "    }\n",
       "\n",
       "    .dataframe thead th {\n",
       "        text-align: right;\n",
       "    }\n",
       "</style>\n",
       "<table border=\"1\" class=\"dataframe\">\n",
       "  <thead>\n",
       "    <tr style=\"text-align: right;\">\n",
       "      <th></th>\n",
       "      <th>BorrowerAPR</th>\n",
       "      <th>BorrowerRate</th>\n",
       "    </tr>\n",
       "  </thead>\n",
       "  <tbody>\n",
       "    <tr>\n",
       "      <th>count</th>\n",
       "      <td>113912.000000</td>\n",
       "      <td>113937.000000</td>\n",
       "    </tr>\n",
       "    <tr>\n",
       "      <th>mean</th>\n",
       "      <td>0.218828</td>\n",
       "      <td>0.192764</td>\n",
       "    </tr>\n",
       "    <tr>\n",
       "      <th>std</th>\n",
       "      <td>0.080364</td>\n",
       "      <td>0.074818</td>\n",
       "    </tr>\n",
       "    <tr>\n",
       "      <th>min</th>\n",
       "      <td>0.006530</td>\n",
       "      <td>0.000000</td>\n",
       "    </tr>\n",
       "    <tr>\n",
       "      <th>25%</th>\n",
       "      <td>0.156290</td>\n",
       "      <td>0.134000</td>\n",
       "    </tr>\n",
       "    <tr>\n",
       "      <th>50%</th>\n",
       "      <td>0.209760</td>\n",
       "      <td>0.184000</td>\n",
       "    </tr>\n",
       "    <tr>\n",
       "      <th>75%</th>\n",
       "      <td>0.283810</td>\n",
       "      <td>0.250000</td>\n",
       "    </tr>\n",
       "    <tr>\n",
       "      <th>max</th>\n",
       "      <td>0.512290</td>\n",
       "      <td>0.497500</td>\n",
       "    </tr>\n",
       "  </tbody>\n",
       "</table>\n",
       "</div>"
      ],
      "text/plain": [
       "         BorrowerAPR   BorrowerRate\n",
       "count  113912.000000  113937.000000\n",
       "mean        0.218828       0.192764\n",
       "std         0.080364       0.074818\n",
       "min         0.006530       0.000000\n",
       "25%         0.156290       0.134000\n",
       "50%         0.209760       0.184000\n",
       "75%         0.283810       0.250000\n",
       "max         0.512290       0.497500"
      ]
     },
     "execution_count": 455,
     "metadata": {},
     "output_type": "execute_result"
    }
   ],
   "source": [
    "# What is the spread of interest rates?\n",
    "loans[['BorrowerAPR', 'BorrowerRate']].describe()"
   ]
  },
  {
   "cell_type": "code",
   "execution_count": 456,
   "metadata": {},
   "outputs": [
    {
     "data": {
      "text/plain": [
       "True     105268\n",
       "False      8669\n",
       "Name: IncomeVerifiable, dtype: int64"
      ]
     },
     "execution_count": 456,
     "metadata": {},
     "output_type": "execute_result"
    }
   ],
   "source": [
    "# does varifiable income matter as a factor?\n",
    "loans['IncomeVerifiable'].value_counts()"
   ]
  },
  {
   "cell_type": "markdown",
   "metadata": {},
   "source": [
    "### What is the structure of your dataset?\n",
    "\n",
    "The Loans dataset contains 113937 records with 81 data points about each loan. Some of the salient points that can be observed about the dataset are as below\n",
    "- There are two kinds of credit ratings in the dataset, one which is _CreditGrade_ which contains ratings for loans pre-2009 and the other which is _ProsperRating_ which is given to loans originating after July 2009.\n",
    "- About 50% of the loans in the dataset are already closed.\n",
    "- There are various fields about the listing itself, there are various fields about the loan, and then there are many fields about the borrower current state of employment, income and credit ratings. \n",
    "\n",
    "In fact a good number of fields do not have data in all the rows as they are either dependent on the time (pre 2009 vs post), or on whether the borrower had a prior credits or relationship with prosper.\n",
    "\n",
    "### What is/are the main feature(s) of interest in your dataset?\n",
    "\n",
    "We would like to focus on the APR of the Borrower and what are the factors that affect the APR\n",
    "\n",
    "### What features in the dataset do you think will help support your investigation into your feature(s) of interest?\n",
    "\n",
    "Some of the data points that are related to the APR will of course be the credit scores and credit ratings of the borrower. The rate might also be dependant on the loan tenure and loan amounts that have been opted for. The rate could also depend on the employment status and income of the borrower. The final thing that would be interesting would be to see if the interest rates change with calendar."
   ]
  },
  {
   "cell_type": "markdown",
   "metadata": {},
   "source": [
    "## More Wrangling"
   ]
  },
  {
   "cell_type": "code",
   "execution_count": 457,
   "metadata": {},
   "outputs": [],
   "source": [
    "loans_apr = loans.copy()"
   ]
  },
  {
   "cell_type": "code",
   "execution_count": 458,
   "metadata": {},
   "outputs": [
    {
     "data": {
      "text/plain": [
       "(113937, 15)"
      ]
     },
     "execution_count": 458,
     "metadata": {},
     "output_type": "execute_result"
    }
   ],
   "source": [
    "# let's now only take those fields that we are interested in. We want to explore factors that affect the Borrower APR\n",
    "columns = ['CreditGrade', 'Term', 'BorrowerAPR', 'ProsperRating (Alpha)', 'EmploymentStatus', 'EmploymentStatusDuration', 'IsBorrowerHomeowner', 'CreditScoreRangeLower', 'CreditScoreRangeUpper', 'CurrentCreditLines', 'DebtToIncomeRatio', 'StatedMonthlyIncome', 'LoanOriginalAmount', 'LoanOriginationDate', 'LoanOriginationQuarter']\n",
    "loans_apr = loans_apr.filter(items=columns)\n",
    "loans_apr.shape"
   ]
  },
  {
   "cell_type": "code",
   "execution_count": 459,
   "metadata": {},
   "outputs": [
    {
     "data": {
      "text/plain": [
       "0"
      ]
     },
     "execution_count": 459,
     "metadata": {},
     "output_type": "execute_result"
    }
   ],
   "source": [
    "# Let's merge the credit rating data for pre 2009 and post 2009.\n",
    "loans_apr['CreditRating'] = loans_apr['ProsperRating (Alpha)'].combine_first(loans_apr['CreditGrade'])\n",
    "loans_apr = loans_apr.drop(columns=['ProsperRating (Alpha)', 'CreditGrade'])\n",
    "loans_apr = loans_apr.fillna(value={'CreditRating':'NA'})\n",
    "loans_apr['CreditRating'].isna().sum()"
   ]
  },
  {
   "cell_type": "code",
   "execution_count": 460,
   "metadata": {},
   "outputs": [
    {
     "data": {
      "text/plain": [
       "[C, A, HR, D, B, E, AA, NA, NaN]\n",
       "Categories (8, object): [NA < HR < E < D < C < B < A < AA]"
      ]
     },
     "execution_count": 460,
     "metadata": {},
     "output_type": "execute_result"
    }
   ],
   "source": [
    "# Now convert the CreditRatings into an ordinal type\n",
    "credit_ratings = ['NA', 'HR', 'E', 'D', 'C', 'B', 'A','AA']\n",
    "credit_type = pd.api.types.CategoricalDtype(credit_ratings, ordered=True)\n",
    "loans_apr.loc[:,'CreditRating'] = loans_apr['CreditRating'].astype(credit_type)\n",
    "loans_apr['CreditRating'].unique()"
   ]
  },
  {
   "cell_type": "code",
   "execution_count": 461,
   "metadata": {},
   "outputs": [
    {
     "data": {
      "text/html": [
       "<div>\n",
       "<style scoped>\n",
       "    .dataframe tbody tr th:only-of-type {\n",
       "        vertical-align: middle;\n",
       "    }\n",
       "\n",
       "    .dataframe tbody tr th {\n",
       "        vertical-align: top;\n",
       "    }\n",
       "\n",
       "    .dataframe thead th {\n",
       "        text-align: right;\n",
       "    }\n",
       "</style>\n",
       "<table border=\"1\" class=\"dataframe\">\n",
       "  <thead>\n",
       "    <tr style=\"text-align: right;\">\n",
       "      <th></th>\n",
       "      <th>Term</th>\n",
       "      <th>BorrowerAPR</th>\n",
       "      <th>EmploymentStatus</th>\n",
       "      <th>EmploymentStatusDuration</th>\n",
       "      <th>IsBorrowerHomeowner</th>\n",
       "      <th>CurrentCreditLines</th>\n",
       "      <th>DebtToIncomeRatio</th>\n",
       "      <th>StatedMonthlyIncome</th>\n",
       "      <th>LoanOriginalAmount</th>\n",
       "      <th>LoanOriginationDate</th>\n",
       "      <th>LoanOriginationQuarter</th>\n",
       "      <th>CreditRating</th>\n",
       "      <th>CreditScoreRangeAverage</th>\n",
       "    </tr>\n",
       "  </thead>\n",
       "  <tbody>\n",
       "    <tr>\n",
       "      <th>0</th>\n",
       "      <td>36</td>\n",
       "      <td>0.16516</td>\n",
       "      <td>Self-employed</td>\n",
       "      <td>2.0</td>\n",
       "      <td>True</td>\n",
       "      <td>5.0</td>\n",
       "      <td>0.17</td>\n",
       "      <td>3083.333333</td>\n",
       "      <td>9425</td>\n",
       "      <td>2007-09-12 00:00:00</td>\n",
       "      <td>Q3 2007</td>\n",
       "      <td>C</td>\n",
       "      <td>649.0</td>\n",
       "    </tr>\n",
       "    <tr>\n",
       "      <th>1</th>\n",
       "      <td>36</td>\n",
       "      <td>0.12016</td>\n",
       "      <td>Employed</td>\n",
       "      <td>44.0</td>\n",
       "      <td>False</td>\n",
       "      <td>14.0</td>\n",
       "      <td>0.18</td>\n",
       "      <td>6125.000000</td>\n",
       "      <td>10000</td>\n",
       "      <td>2014-03-03 00:00:00</td>\n",
       "      <td>Q1 2014</td>\n",
       "      <td>A</td>\n",
       "      <td>689.0</td>\n",
       "    </tr>\n",
       "    <tr>\n",
       "      <th>2</th>\n",
       "      <td>36</td>\n",
       "      <td>0.28269</td>\n",
       "      <td>Not available</td>\n",
       "      <td>NaN</td>\n",
       "      <td>False</td>\n",
       "      <td>NaN</td>\n",
       "      <td>0.06</td>\n",
       "      <td>2083.333333</td>\n",
       "      <td>3001</td>\n",
       "      <td>2007-01-17 00:00:00</td>\n",
       "      <td>Q1 2007</td>\n",
       "      <td>HR</td>\n",
       "      <td>489.0</td>\n",
       "    </tr>\n",
       "    <tr>\n",
       "      <th>3</th>\n",
       "      <td>36</td>\n",
       "      <td>0.12528</td>\n",
       "      <td>Employed</td>\n",
       "      <td>113.0</td>\n",
       "      <td>True</td>\n",
       "      <td>5.0</td>\n",
       "      <td>0.15</td>\n",
       "      <td>2875.000000</td>\n",
       "      <td>10000</td>\n",
       "      <td>2012-11-01 00:00:00</td>\n",
       "      <td>Q4 2012</td>\n",
       "      <td>A</td>\n",
       "      <td>809.0</td>\n",
       "    </tr>\n",
       "    <tr>\n",
       "      <th>4</th>\n",
       "      <td>36</td>\n",
       "      <td>0.24614</td>\n",
       "      <td>Employed</td>\n",
       "      <td>44.0</td>\n",
       "      <td>True</td>\n",
       "      <td>19.0</td>\n",
       "      <td>0.26</td>\n",
       "      <td>9583.333333</td>\n",
       "      <td>15000</td>\n",
       "      <td>2013-09-20 00:00:00</td>\n",
       "      <td>Q3 2013</td>\n",
       "      <td>D</td>\n",
       "      <td>689.0</td>\n",
       "    </tr>\n",
       "  </tbody>\n",
       "</table>\n",
       "</div>"
      ],
      "text/plain": [
       "   Term  BorrowerAPR EmploymentStatus  EmploymentStatusDuration  \\\n",
       "0    36      0.16516    Self-employed                       2.0   \n",
       "1    36      0.12016         Employed                      44.0   \n",
       "2    36      0.28269    Not available                       NaN   \n",
       "3    36      0.12528         Employed                     113.0   \n",
       "4    36      0.24614         Employed                      44.0   \n",
       "\n",
       "   IsBorrowerHomeowner  CurrentCreditLines  DebtToIncomeRatio  \\\n",
       "0                 True                 5.0               0.17   \n",
       "1                False                14.0               0.18   \n",
       "2                False                 NaN               0.06   \n",
       "3                 True                 5.0               0.15   \n",
       "4                 True                19.0               0.26   \n",
       "\n",
       "   StatedMonthlyIncome  LoanOriginalAmount  LoanOriginationDate  \\\n",
       "0          3083.333333                9425  2007-09-12 00:00:00   \n",
       "1          6125.000000               10000  2014-03-03 00:00:00   \n",
       "2          2083.333333                3001  2007-01-17 00:00:00   \n",
       "3          2875.000000               10000  2012-11-01 00:00:00   \n",
       "4          9583.333333               15000  2013-09-20 00:00:00   \n",
       "\n",
       "  LoanOriginationQuarter CreditRating  CreditScoreRangeAverage  \n",
       "0                Q3 2007            C                    649.0  \n",
       "1                Q1 2014            A                    689.0  \n",
       "2                Q1 2007           HR                    489.0  \n",
       "3                Q4 2012            A                    809.0  \n",
       "4                Q3 2013            D                    689.0  "
      ]
     },
     "execution_count": 461,
     "metadata": {},
     "output_type": "execute_result"
    }
   ],
   "source": [
    "# Convert credit score to average\n",
    "loans_apr.loc[:,'CreditScoreRangeAverage'] = (loans_apr['CreditScoreRangeLower'] + loans_apr['CreditScoreRangeUpper']) / 2\n",
    "loans_apr = loans_apr.drop(columns=['CreditScoreRangeLower', 'CreditScoreRangeUpper'])\n",
    "loans_apr.loc[:,'CreditScoreRangeAverage'] = loans_apr['CreditScoreRangeAverage'].apply(np.floor)\n",
    "loans_apr.head()"
   ]
  },
  {
   "cell_type": "code",
   "execution_count": 462,
   "metadata": {},
   "outputs": [
    {
     "data": {
      "text/plain": [
       "0"
      ]
     },
     "execution_count": 462,
     "metadata": {},
     "output_type": "execute_result"
    }
   ],
   "source": [
    "# nullify missing data\n",
    "loans_apr = loans_apr.fillna(value={'CreditScoreRangeAverage': 0})\n",
    "loans_apr['CreditScoreRangeAverage'].isnull().sum()"
   ]
  },
  {
   "cell_type": "code",
   "execution_count": 463,
   "metadata": {},
   "outputs": [],
   "source": [
    "# and convert to int type\n",
    "loans_apr.loc[:, 'CreditScoreRangeAverage'] = loans_apr['CreditScoreRangeAverage'].astype(int)"
   ]
  },
  {
   "cell_type": "code",
   "execution_count": 464,
   "metadata": {},
   "outputs": [
    {
     "data": {
      "text/html": [
       "<div>\n",
       "<style scoped>\n",
       "    .dataframe tbody tr th:only-of-type {\n",
       "        vertical-align: middle;\n",
       "    }\n",
       "\n",
       "    .dataframe tbody tr th {\n",
       "        vertical-align: top;\n",
       "    }\n",
       "\n",
       "    .dataframe thead th {\n",
       "        text-align: right;\n",
       "    }\n",
       "</style>\n",
       "<table border=\"1\" class=\"dataframe\">\n",
       "  <thead>\n",
       "    <tr style=\"text-align: right;\">\n",
       "      <th></th>\n",
       "      <th>Term</th>\n",
       "      <th>BorrowerAPR</th>\n",
       "      <th>EmploymentStatus</th>\n",
       "      <th>EmploymentStatusDuration</th>\n",
       "      <th>IsBorrowerHomeowner</th>\n",
       "      <th>CurrentCreditLines</th>\n",
       "      <th>DebtToIncomeRatio</th>\n",
       "      <th>StatedMonthlyIncome</th>\n",
       "      <th>LoanOriginalAmount</th>\n",
       "      <th>LoanOriginationDate</th>\n",
       "      <th>LoanOriginationQuarter</th>\n",
       "      <th>CreditRating</th>\n",
       "      <th>CreditScoreRangeAverage</th>\n",
       "      <th>LoanOriginationYear</th>\n",
       "    </tr>\n",
       "  </thead>\n",
       "  <tbody>\n",
       "    <tr>\n",
       "      <th>0</th>\n",
       "      <td>36</td>\n",
       "      <td>0.16516</td>\n",
       "      <td>Self-employed</td>\n",
       "      <td>2.0</td>\n",
       "      <td>True</td>\n",
       "      <td>5.0</td>\n",
       "      <td>0.17</td>\n",
       "      <td>3083.333333</td>\n",
       "      <td>9425</td>\n",
       "      <td>2007-09-12</td>\n",
       "      <td>Q3</td>\n",
       "      <td>C</td>\n",
       "      <td>649</td>\n",
       "      <td>2007</td>\n",
       "    </tr>\n",
       "    <tr>\n",
       "      <th>1</th>\n",
       "      <td>36</td>\n",
       "      <td>0.12016</td>\n",
       "      <td>Employed</td>\n",
       "      <td>44.0</td>\n",
       "      <td>False</td>\n",
       "      <td>14.0</td>\n",
       "      <td>0.18</td>\n",
       "      <td>6125.000000</td>\n",
       "      <td>10000</td>\n",
       "      <td>2014-03-03</td>\n",
       "      <td>Q1</td>\n",
       "      <td>A</td>\n",
       "      <td>689</td>\n",
       "      <td>2014</td>\n",
       "    </tr>\n",
       "    <tr>\n",
       "      <th>2</th>\n",
       "      <td>36</td>\n",
       "      <td>0.28269</td>\n",
       "      <td>Not available</td>\n",
       "      <td>NaN</td>\n",
       "      <td>False</td>\n",
       "      <td>NaN</td>\n",
       "      <td>0.06</td>\n",
       "      <td>2083.333333</td>\n",
       "      <td>3001</td>\n",
       "      <td>2007-01-17</td>\n",
       "      <td>Q1</td>\n",
       "      <td>HR</td>\n",
       "      <td>489</td>\n",
       "      <td>2007</td>\n",
       "    </tr>\n",
       "    <tr>\n",
       "      <th>3</th>\n",
       "      <td>36</td>\n",
       "      <td>0.12528</td>\n",
       "      <td>Employed</td>\n",
       "      <td>113.0</td>\n",
       "      <td>True</td>\n",
       "      <td>5.0</td>\n",
       "      <td>0.15</td>\n",
       "      <td>2875.000000</td>\n",
       "      <td>10000</td>\n",
       "      <td>2012-11-01</td>\n",
       "      <td>Q4</td>\n",
       "      <td>A</td>\n",
       "      <td>809</td>\n",
       "      <td>2012</td>\n",
       "    </tr>\n",
       "    <tr>\n",
       "      <th>4</th>\n",
       "      <td>36</td>\n",
       "      <td>0.24614</td>\n",
       "      <td>Employed</td>\n",
       "      <td>44.0</td>\n",
       "      <td>True</td>\n",
       "      <td>19.0</td>\n",
       "      <td>0.26</td>\n",
       "      <td>9583.333333</td>\n",
       "      <td>15000</td>\n",
       "      <td>2013-09-20</td>\n",
       "      <td>Q3</td>\n",
       "      <td>D</td>\n",
       "      <td>689</td>\n",
       "      <td>2013</td>\n",
       "    </tr>\n",
       "  </tbody>\n",
       "</table>\n",
       "</div>"
      ],
      "text/plain": [
       "   Term  BorrowerAPR EmploymentStatus  EmploymentStatusDuration  \\\n",
       "0    36      0.16516    Self-employed                       2.0   \n",
       "1    36      0.12016         Employed                      44.0   \n",
       "2    36      0.28269    Not available                       NaN   \n",
       "3    36      0.12528         Employed                     113.0   \n",
       "4    36      0.24614         Employed                      44.0   \n",
       "\n",
       "   IsBorrowerHomeowner  CurrentCreditLines  DebtToIncomeRatio  \\\n",
       "0                 True                 5.0               0.17   \n",
       "1                False                14.0               0.18   \n",
       "2                False                 NaN               0.06   \n",
       "3                 True                 5.0               0.15   \n",
       "4                 True                19.0               0.26   \n",
       "\n",
       "   StatedMonthlyIncome  LoanOriginalAmount LoanOriginationDate  \\\n",
       "0          3083.333333                9425          2007-09-12   \n",
       "1          6125.000000               10000          2014-03-03   \n",
       "2          2083.333333                3001          2007-01-17   \n",
       "3          2875.000000               10000          2012-11-01   \n",
       "4          9583.333333               15000          2013-09-20   \n",
       "\n",
       "  LoanOriginationQuarter CreditRating  CreditScoreRangeAverage  \\\n",
       "0                     Q3            C                      649   \n",
       "1                     Q1            A                      689   \n",
       "2                     Q1           HR                      489   \n",
       "3                     Q4            A                      809   \n",
       "4                     Q3            D                      689   \n",
       "\n",
       "   LoanOriginationYear  \n",
       "0                 2007  \n",
       "1                 2014  \n",
       "2                 2007  \n",
       "3                 2012  \n",
       "4                 2013  "
      ]
     },
     "execution_count": 464,
     "metadata": {},
     "output_type": "execute_result"
    }
   ],
   "source": [
    "# Split the loan origination quarter columns into quarters and years and convert origination date to datetime\n",
    "loans_apr[['LoanOriginationQuarter', 'LoanOriginationYear']] = loans_apr['LoanOriginationQuarter'].str.split(expand=True)\n",
    "loans_apr.loc[:,'LoanOriginationYear'] = loans_apr['LoanOriginationYear'].astype(int)\n",
    "loans_apr.loc[:,'LoanOriginationDate'] = pd.to_datetime(loans_apr['LoanOriginationDate'])\n",
    "loans_apr.head()"
   ]
  },
  {
   "cell_type": "code",
   "execution_count": 509,
   "metadata": {},
   "outputs": [
    {
     "data": {
      "text/plain": [
       "[Q3, Q1, Q4, Q2]\n",
       "Categories (4, object): [Q1 < Q2 < Q3 < Q4]"
      ]
     },
     "execution_count": 509,
     "metadata": {},
     "output_type": "execute_result"
    }
   ],
   "source": [
    "quarters = ['Q1', 'Q2', 'Q3', 'Q4']\n",
    "quarter_type = pd.api.types.CategoricalDtype(quarters, ordered=True)\n",
    "loans_apr.loc[:,'LoanOriginationQuarter'] = loans_apr['LoanOriginationQuarter'].astype(quarter_type)\n",
    "loans_apr.loc[:,'LoanOriginationQuarter'].unique()"
   ]
  },
  {
   "cell_type": "code",
   "execution_count": 465,
   "metadata": {},
   "outputs": [
    {
     "data": {
      "text/html": [
       "<div>\n",
       "<style scoped>\n",
       "    .dataframe tbody tr th:only-of-type {\n",
       "        vertical-align: middle;\n",
       "    }\n",
       "\n",
       "    .dataframe tbody tr th {\n",
       "        vertical-align: top;\n",
       "    }\n",
       "\n",
       "    .dataframe thead th {\n",
       "        text-align: right;\n",
       "    }\n",
       "</style>\n",
       "<table border=\"1\" class=\"dataframe\">\n",
       "  <thead>\n",
       "    <tr style=\"text-align: right;\">\n",
       "      <th></th>\n",
       "      <th>Term</th>\n",
       "      <th>BorrowerAPR</th>\n",
       "      <th>EmploymentStatus</th>\n",
       "      <th>EmploymentStatusDuration</th>\n",
       "      <th>IsBorrowerHomeowner</th>\n",
       "      <th>CurrentCreditLines</th>\n",
       "      <th>DebtToIncomeRatio</th>\n",
       "      <th>StatedMonthlyIncome</th>\n",
       "      <th>LoanOriginalAmount</th>\n",
       "      <th>LoanOriginationDate</th>\n",
       "      <th>LoanOriginationQuarter</th>\n",
       "      <th>CreditRating</th>\n",
       "      <th>CreditScoreRangeAverage</th>\n",
       "      <th>LoanOriginationYear</th>\n",
       "    </tr>\n",
       "  </thead>\n",
       "  <tbody>\n",
       "    <tr>\n",
       "      <th>0</th>\n",
       "      <td>36</td>\n",
       "      <td>0.16516</td>\n",
       "      <td>Self-employed</td>\n",
       "      <td>2</td>\n",
       "      <td>True</td>\n",
       "      <td>5.0</td>\n",
       "      <td>0.17</td>\n",
       "      <td>3083.333333</td>\n",
       "      <td>9425</td>\n",
       "      <td>2007-09-12</td>\n",
       "      <td>Q3</td>\n",
       "      <td>C</td>\n",
       "      <td>649</td>\n",
       "      <td>2007</td>\n",
       "    </tr>\n",
       "    <tr>\n",
       "      <th>1</th>\n",
       "      <td>36</td>\n",
       "      <td>0.12016</td>\n",
       "      <td>Employed</td>\n",
       "      <td>44</td>\n",
       "      <td>False</td>\n",
       "      <td>14.0</td>\n",
       "      <td>0.18</td>\n",
       "      <td>6125.000000</td>\n",
       "      <td>10000</td>\n",
       "      <td>2014-03-03</td>\n",
       "      <td>Q1</td>\n",
       "      <td>A</td>\n",
       "      <td>689</td>\n",
       "      <td>2014</td>\n",
       "    </tr>\n",
       "    <tr>\n",
       "      <th>2</th>\n",
       "      <td>36</td>\n",
       "      <td>0.28269</td>\n",
       "      <td>Not available</td>\n",
       "      <td>0</td>\n",
       "      <td>False</td>\n",
       "      <td>NaN</td>\n",
       "      <td>0.06</td>\n",
       "      <td>2083.333333</td>\n",
       "      <td>3001</td>\n",
       "      <td>2007-01-17</td>\n",
       "      <td>Q1</td>\n",
       "      <td>HR</td>\n",
       "      <td>489</td>\n",
       "      <td>2007</td>\n",
       "    </tr>\n",
       "    <tr>\n",
       "      <th>3</th>\n",
       "      <td>36</td>\n",
       "      <td>0.12528</td>\n",
       "      <td>Employed</td>\n",
       "      <td>113</td>\n",
       "      <td>True</td>\n",
       "      <td>5.0</td>\n",
       "      <td>0.15</td>\n",
       "      <td>2875.000000</td>\n",
       "      <td>10000</td>\n",
       "      <td>2012-11-01</td>\n",
       "      <td>Q4</td>\n",
       "      <td>A</td>\n",
       "      <td>809</td>\n",
       "      <td>2012</td>\n",
       "    </tr>\n",
       "    <tr>\n",
       "      <th>4</th>\n",
       "      <td>36</td>\n",
       "      <td>0.24614</td>\n",
       "      <td>Employed</td>\n",
       "      <td>44</td>\n",
       "      <td>True</td>\n",
       "      <td>19.0</td>\n",
       "      <td>0.26</td>\n",
       "      <td>9583.333333</td>\n",
       "      <td>15000</td>\n",
       "      <td>2013-09-20</td>\n",
       "      <td>Q3</td>\n",
       "      <td>D</td>\n",
       "      <td>689</td>\n",
       "      <td>2013</td>\n",
       "    </tr>\n",
       "  </tbody>\n",
       "</table>\n",
       "</div>"
      ],
      "text/plain": [
       "   Term  BorrowerAPR EmploymentStatus  EmploymentStatusDuration  \\\n",
       "0    36      0.16516    Self-employed                         2   \n",
       "1    36      0.12016         Employed                        44   \n",
       "2    36      0.28269    Not available                         0   \n",
       "3    36      0.12528         Employed                       113   \n",
       "4    36      0.24614         Employed                        44   \n",
       "\n",
       "   IsBorrowerHomeowner  CurrentCreditLines  DebtToIncomeRatio  \\\n",
       "0                 True                 5.0               0.17   \n",
       "1                False                14.0               0.18   \n",
       "2                False                 NaN               0.06   \n",
       "3                 True                 5.0               0.15   \n",
       "4                 True                19.0               0.26   \n",
       "\n",
       "   StatedMonthlyIncome  LoanOriginalAmount LoanOriginationDate  \\\n",
       "0          3083.333333                9425          2007-09-12   \n",
       "1          6125.000000               10000          2014-03-03   \n",
       "2          2083.333333                3001          2007-01-17   \n",
       "3          2875.000000               10000          2012-11-01   \n",
       "4          9583.333333               15000          2013-09-20   \n",
       "\n",
       "  LoanOriginationQuarter CreditRating  CreditScoreRangeAverage  \\\n",
       "0                     Q3            C                      649   \n",
       "1                     Q1            A                      689   \n",
       "2                     Q1           HR                      489   \n",
       "3                     Q4            A                      809   \n",
       "4                     Q3            D                      689   \n",
       "\n",
       "   LoanOriginationYear  \n",
       "0                 2007  \n",
       "1                 2014  \n",
       "2                 2007  \n",
       "3                 2012  \n",
       "4                 2013  "
      ]
     },
     "execution_count": 465,
     "metadata": {},
     "output_type": "execute_result"
    }
   ],
   "source": [
    "# Convert Employment duration to int and fill NaNs\n",
    "loans_apr = loans_apr.fillna(value={'EmploymentStatusDuration': 0})\n",
    "loans_apr.loc[:,'EmploymentStatusDuration'] = loans_apr['EmploymentStatusDuration'].astype(int)\n",
    "loans_apr.head()"
   ]
  },
  {
   "cell_type": "code",
   "execution_count": 466,
   "metadata": {},
   "outputs": [
    {
     "data": {
      "text/html": [
       "<div>\n",
       "<style scoped>\n",
       "    .dataframe tbody tr th:only-of-type {\n",
       "        vertical-align: middle;\n",
       "    }\n",
       "\n",
       "    .dataframe tbody tr th {\n",
       "        vertical-align: top;\n",
       "    }\n",
       "\n",
       "    .dataframe thead th {\n",
       "        text-align: right;\n",
       "    }\n",
       "</style>\n",
       "<table border=\"1\" class=\"dataframe\">\n",
       "  <thead>\n",
       "    <tr style=\"text-align: right;\">\n",
       "      <th></th>\n",
       "      <th>Term</th>\n",
       "      <th>BorrowerAPR</th>\n",
       "      <th>EmploymentStatus</th>\n",
       "      <th>EmploymentStatusDuration</th>\n",
       "      <th>IsBorrowerHomeowner</th>\n",
       "      <th>CurrentCreditLines</th>\n",
       "      <th>DebtToIncomeRatio</th>\n",
       "      <th>StatedMonthlyIncome</th>\n",
       "      <th>LoanOriginalAmount</th>\n",
       "      <th>LoanOriginationDate</th>\n",
       "      <th>LoanOriginationQuarter</th>\n",
       "      <th>CreditRating</th>\n",
       "      <th>CreditScoreRangeAverage</th>\n",
       "      <th>LoanOriginationYear</th>\n",
       "    </tr>\n",
       "  </thead>\n",
       "  <tbody>\n",
       "    <tr>\n",
       "      <th>0</th>\n",
       "      <td>36</td>\n",
       "      <td>0.16516</td>\n",
       "      <td>Self-employed</td>\n",
       "      <td>2</td>\n",
       "      <td>True</td>\n",
       "      <td>5</td>\n",
       "      <td>0.17</td>\n",
       "      <td>3083.333333</td>\n",
       "      <td>9425</td>\n",
       "      <td>2007-09-12</td>\n",
       "      <td>Q3</td>\n",
       "      <td>C</td>\n",
       "      <td>649</td>\n",
       "      <td>2007</td>\n",
       "    </tr>\n",
       "    <tr>\n",
       "      <th>1</th>\n",
       "      <td>36</td>\n",
       "      <td>0.12016</td>\n",
       "      <td>Employed</td>\n",
       "      <td>44</td>\n",
       "      <td>False</td>\n",
       "      <td>14</td>\n",
       "      <td>0.18</td>\n",
       "      <td>6125.000000</td>\n",
       "      <td>10000</td>\n",
       "      <td>2014-03-03</td>\n",
       "      <td>Q1</td>\n",
       "      <td>A</td>\n",
       "      <td>689</td>\n",
       "      <td>2014</td>\n",
       "    </tr>\n",
       "    <tr>\n",
       "      <th>2</th>\n",
       "      <td>36</td>\n",
       "      <td>0.28269</td>\n",
       "      <td>Not available</td>\n",
       "      <td>0</td>\n",
       "      <td>False</td>\n",
       "      <td>0</td>\n",
       "      <td>0.06</td>\n",
       "      <td>2083.333333</td>\n",
       "      <td>3001</td>\n",
       "      <td>2007-01-17</td>\n",
       "      <td>Q1</td>\n",
       "      <td>HR</td>\n",
       "      <td>489</td>\n",
       "      <td>2007</td>\n",
       "    </tr>\n",
       "    <tr>\n",
       "      <th>3</th>\n",
       "      <td>36</td>\n",
       "      <td>0.12528</td>\n",
       "      <td>Employed</td>\n",
       "      <td>113</td>\n",
       "      <td>True</td>\n",
       "      <td>5</td>\n",
       "      <td>0.15</td>\n",
       "      <td>2875.000000</td>\n",
       "      <td>10000</td>\n",
       "      <td>2012-11-01</td>\n",
       "      <td>Q4</td>\n",
       "      <td>A</td>\n",
       "      <td>809</td>\n",
       "      <td>2012</td>\n",
       "    </tr>\n",
       "    <tr>\n",
       "      <th>4</th>\n",
       "      <td>36</td>\n",
       "      <td>0.24614</td>\n",
       "      <td>Employed</td>\n",
       "      <td>44</td>\n",
       "      <td>True</td>\n",
       "      <td>19</td>\n",
       "      <td>0.26</td>\n",
       "      <td>9583.333333</td>\n",
       "      <td>15000</td>\n",
       "      <td>2013-09-20</td>\n",
       "      <td>Q3</td>\n",
       "      <td>D</td>\n",
       "      <td>689</td>\n",
       "      <td>2013</td>\n",
       "    </tr>\n",
       "  </tbody>\n",
       "</table>\n",
       "</div>"
      ],
      "text/plain": [
       "   Term  BorrowerAPR EmploymentStatus  EmploymentStatusDuration  \\\n",
       "0    36      0.16516    Self-employed                         2   \n",
       "1    36      0.12016         Employed                        44   \n",
       "2    36      0.28269    Not available                         0   \n",
       "3    36      0.12528         Employed                       113   \n",
       "4    36      0.24614         Employed                        44   \n",
       "\n",
       "   IsBorrowerHomeowner  CurrentCreditLines  DebtToIncomeRatio  \\\n",
       "0                 True                   5               0.17   \n",
       "1                False                  14               0.18   \n",
       "2                False                   0               0.06   \n",
       "3                 True                   5               0.15   \n",
       "4                 True                  19               0.26   \n",
       "\n",
       "   StatedMonthlyIncome  LoanOriginalAmount LoanOriginationDate  \\\n",
       "0          3083.333333                9425          2007-09-12   \n",
       "1          6125.000000               10000          2014-03-03   \n",
       "2          2083.333333                3001          2007-01-17   \n",
       "3          2875.000000               10000          2012-11-01   \n",
       "4          9583.333333               15000          2013-09-20   \n",
       "\n",
       "  LoanOriginationQuarter CreditRating  CreditScoreRangeAverage  \\\n",
       "0                     Q3            C                      649   \n",
       "1                     Q1            A                      689   \n",
       "2                     Q1           HR                      489   \n",
       "3                     Q4            A                      809   \n",
       "4                     Q3            D                      689   \n",
       "\n",
       "   LoanOriginationYear  \n",
       "0                 2007  \n",
       "1                 2014  \n",
       "2                 2007  \n",
       "3                 2012  \n",
       "4                 2013  "
      ]
     },
     "execution_count": 466,
     "metadata": {},
     "output_type": "execute_result"
    }
   ],
   "source": [
    "# Similarly for current credit lines\n",
    "loans_apr = loans_apr.fillna(value={'CurrentCreditLines': 0})\n",
    "loans_apr.loc[:,'CurrentCreditLines'] = loans_apr['CurrentCreditLines'].astype(int)\n",
    "loans_apr.head()"
   ]
  },
  {
   "cell_type": "code",
   "execution_count": 467,
   "metadata": {},
   "outputs": [
    {
     "data": {
      "text/html": [
       "<div>\n",
       "<style scoped>\n",
       "    .dataframe tbody tr th:only-of-type {\n",
       "        vertical-align: middle;\n",
       "    }\n",
       "\n",
       "    .dataframe tbody tr th {\n",
       "        vertical-align: top;\n",
       "    }\n",
       "\n",
       "    .dataframe thead th {\n",
       "        text-align: right;\n",
       "    }\n",
       "</style>\n",
       "<table border=\"1\" class=\"dataframe\">\n",
       "  <thead>\n",
       "    <tr style=\"text-align: right;\">\n",
       "      <th></th>\n",
       "      <th>Term</th>\n",
       "      <th>BorrowerAPR</th>\n",
       "      <th>EmploymentStatus</th>\n",
       "      <th>EmploymentStatusDuration</th>\n",
       "      <th>IsBorrowerHomeowner</th>\n",
       "      <th>CurrentCreditLines</th>\n",
       "      <th>DebtToIncomeRatio</th>\n",
       "      <th>StatedMonthlyIncome</th>\n",
       "      <th>LoanOriginalAmount</th>\n",
       "      <th>LoanOriginationDate</th>\n",
       "      <th>LoanOriginationQuarter</th>\n",
       "      <th>CreditRating</th>\n",
       "      <th>CreditScoreRangeAverage</th>\n",
       "      <th>LoanOriginationYear</th>\n",
       "    </tr>\n",
       "  </thead>\n",
       "  <tbody>\n",
       "    <tr>\n",
       "      <th>0</th>\n",
       "      <td>36</td>\n",
       "      <td>0.16516</td>\n",
       "      <td>Self-employed</td>\n",
       "      <td>2</td>\n",
       "      <td>True</td>\n",
       "      <td>5</td>\n",
       "      <td>0.17</td>\n",
       "      <td>3083.333333</td>\n",
       "      <td>9425</td>\n",
       "      <td>2007-09-12</td>\n",
       "      <td>Q3</td>\n",
       "      <td>C</td>\n",
       "      <td>649</td>\n",
       "      <td>2007</td>\n",
       "    </tr>\n",
       "    <tr>\n",
       "      <th>1</th>\n",
       "      <td>36</td>\n",
       "      <td>0.12016</td>\n",
       "      <td>Employed</td>\n",
       "      <td>44</td>\n",
       "      <td>False</td>\n",
       "      <td>14</td>\n",
       "      <td>0.18</td>\n",
       "      <td>6125.000000</td>\n",
       "      <td>10000</td>\n",
       "      <td>2014-03-03</td>\n",
       "      <td>Q1</td>\n",
       "      <td>A</td>\n",
       "      <td>689</td>\n",
       "      <td>2014</td>\n",
       "    </tr>\n",
       "    <tr>\n",
       "      <th>2</th>\n",
       "      <td>36</td>\n",
       "      <td>0.28269</td>\n",
       "      <td>Not available</td>\n",
       "      <td>0</td>\n",
       "      <td>False</td>\n",
       "      <td>0</td>\n",
       "      <td>0.06</td>\n",
       "      <td>2083.333333</td>\n",
       "      <td>3001</td>\n",
       "      <td>2007-01-17</td>\n",
       "      <td>Q1</td>\n",
       "      <td>HR</td>\n",
       "      <td>489</td>\n",
       "      <td>2007</td>\n",
       "    </tr>\n",
       "    <tr>\n",
       "      <th>3</th>\n",
       "      <td>36</td>\n",
       "      <td>0.12528</td>\n",
       "      <td>Employed</td>\n",
       "      <td>113</td>\n",
       "      <td>True</td>\n",
       "      <td>5</td>\n",
       "      <td>0.15</td>\n",
       "      <td>2875.000000</td>\n",
       "      <td>10000</td>\n",
       "      <td>2012-11-01</td>\n",
       "      <td>Q4</td>\n",
       "      <td>A</td>\n",
       "      <td>809</td>\n",
       "      <td>2012</td>\n",
       "    </tr>\n",
       "    <tr>\n",
       "      <th>4</th>\n",
       "      <td>36</td>\n",
       "      <td>0.24614</td>\n",
       "      <td>Employed</td>\n",
       "      <td>44</td>\n",
       "      <td>True</td>\n",
       "      <td>19</td>\n",
       "      <td>0.26</td>\n",
       "      <td>9583.333333</td>\n",
       "      <td>15000</td>\n",
       "      <td>2013-09-20</td>\n",
       "      <td>Q3</td>\n",
       "      <td>D</td>\n",
       "      <td>689</td>\n",
       "      <td>2013</td>\n",
       "    </tr>\n",
       "  </tbody>\n",
       "</table>\n",
       "</div>"
      ],
      "text/plain": [
       "   Term  BorrowerAPR EmploymentStatus  EmploymentStatusDuration  \\\n",
       "0    36      0.16516    Self-employed                         2   \n",
       "1    36      0.12016         Employed                        44   \n",
       "2    36      0.28269    Not available                         0   \n",
       "3    36      0.12528         Employed                       113   \n",
       "4    36      0.24614         Employed                        44   \n",
       "\n",
       "   IsBorrowerHomeowner  CurrentCreditLines  DebtToIncomeRatio  \\\n",
       "0                 True                   5               0.17   \n",
       "1                False                  14               0.18   \n",
       "2                False                   0               0.06   \n",
       "3                 True                   5               0.15   \n",
       "4                 True                  19               0.26   \n",
       "\n",
       "   StatedMonthlyIncome  LoanOriginalAmount LoanOriginationDate  \\\n",
       "0          3083.333333                9425          2007-09-12   \n",
       "1          6125.000000               10000          2014-03-03   \n",
       "2          2083.333333                3001          2007-01-17   \n",
       "3          2875.000000               10000          2012-11-01   \n",
       "4          9583.333333               15000          2013-09-20   \n",
       "\n",
       "  LoanOriginationQuarter CreditRating  CreditScoreRangeAverage  \\\n",
       "0                     Q3            C                      649   \n",
       "1                     Q1            A                      689   \n",
       "2                     Q1           HR                      489   \n",
       "3                     Q4            A                      809   \n",
       "4                     Q3            D                      689   \n",
       "\n",
       "   LoanOriginationYear  \n",
       "0                 2007  \n",
       "1                 2014  \n",
       "2                 2007  \n",
       "3                 2012  \n",
       "4                 2013  "
      ]
     },
     "execution_count": 467,
     "metadata": {},
     "output_type": "execute_result"
    }
   ],
   "source": [
    "# similarly for term\n",
    "loans_apr = loans_apr.fillna(value={'Term': 0})\n",
    "loans_apr.loc[:,'Term'] = loans_apr['Term'].astype(int)\n",
    "loans_apr.head()"
   ]
  },
  {
   "cell_type": "code",
   "execution_count": 468,
   "metadata": {},
   "outputs": [
    {
     "data": {
      "text/html": [
       "<div>\n",
       "<style scoped>\n",
       "    .dataframe tbody tr th:only-of-type {\n",
       "        vertical-align: middle;\n",
       "    }\n",
       "\n",
       "    .dataframe tbody tr th {\n",
       "        vertical-align: top;\n",
       "    }\n",
       "\n",
       "    .dataframe thead th {\n",
       "        text-align: right;\n",
       "    }\n",
       "</style>\n",
       "<table border=\"1\" class=\"dataframe\">\n",
       "  <thead>\n",
       "    <tr style=\"text-align: right;\">\n",
       "      <th></th>\n",
       "      <th>Term</th>\n",
       "      <th>BorrowerAPR</th>\n",
       "      <th>EmploymentStatus</th>\n",
       "      <th>EmploymentStatusDuration</th>\n",
       "      <th>IsBorrowerHomeowner</th>\n",
       "      <th>CurrentCreditLines</th>\n",
       "      <th>DebtToIncomeRatio</th>\n",
       "      <th>StatedMonthlyIncome</th>\n",
       "      <th>LoanOriginalAmount</th>\n",
       "      <th>LoanOriginationDate</th>\n",
       "      <th>LoanOriginationQuarter</th>\n",
       "      <th>CreditRating</th>\n",
       "      <th>CreditScoreRangeAverage</th>\n",
       "      <th>LoanOriginationYear</th>\n",
       "    </tr>\n",
       "  </thead>\n",
       "  <tbody>\n",
       "    <tr>\n",
       "      <th>0</th>\n",
       "      <td>36</td>\n",
       "      <td>0.16516</td>\n",
       "      <td>Self-employed</td>\n",
       "      <td>2</td>\n",
       "      <td>True</td>\n",
       "      <td>5</td>\n",
       "      <td>0.17</td>\n",
       "      <td>3083</td>\n",
       "      <td>9425</td>\n",
       "      <td>2007-09-12</td>\n",
       "      <td>Q3</td>\n",
       "      <td>C</td>\n",
       "      <td>649</td>\n",
       "      <td>2007</td>\n",
       "    </tr>\n",
       "    <tr>\n",
       "      <th>1</th>\n",
       "      <td>36</td>\n",
       "      <td>0.12016</td>\n",
       "      <td>Employed</td>\n",
       "      <td>44</td>\n",
       "      <td>False</td>\n",
       "      <td>14</td>\n",
       "      <td>0.18</td>\n",
       "      <td>6125</td>\n",
       "      <td>10000</td>\n",
       "      <td>2014-03-03</td>\n",
       "      <td>Q1</td>\n",
       "      <td>A</td>\n",
       "      <td>689</td>\n",
       "      <td>2014</td>\n",
       "    </tr>\n",
       "    <tr>\n",
       "      <th>2</th>\n",
       "      <td>36</td>\n",
       "      <td>0.28269</td>\n",
       "      <td>Not available</td>\n",
       "      <td>0</td>\n",
       "      <td>False</td>\n",
       "      <td>0</td>\n",
       "      <td>0.06</td>\n",
       "      <td>2083</td>\n",
       "      <td>3001</td>\n",
       "      <td>2007-01-17</td>\n",
       "      <td>Q1</td>\n",
       "      <td>HR</td>\n",
       "      <td>489</td>\n",
       "      <td>2007</td>\n",
       "    </tr>\n",
       "    <tr>\n",
       "      <th>3</th>\n",
       "      <td>36</td>\n",
       "      <td>0.12528</td>\n",
       "      <td>Employed</td>\n",
       "      <td>113</td>\n",
       "      <td>True</td>\n",
       "      <td>5</td>\n",
       "      <td>0.15</td>\n",
       "      <td>2875</td>\n",
       "      <td>10000</td>\n",
       "      <td>2012-11-01</td>\n",
       "      <td>Q4</td>\n",
       "      <td>A</td>\n",
       "      <td>809</td>\n",
       "      <td>2012</td>\n",
       "    </tr>\n",
       "    <tr>\n",
       "      <th>4</th>\n",
       "      <td>36</td>\n",
       "      <td>0.24614</td>\n",
       "      <td>Employed</td>\n",
       "      <td>44</td>\n",
       "      <td>True</td>\n",
       "      <td>19</td>\n",
       "      <td>0.26</td>\n",
       "      <td>9583</td>\n",
       "      <td>15000</td>\n",
       "      <td>2013-09-20</td>\n",
       "      <td>Q3</td>\n",
       "      <td>D</td>\n",
       "      <td>689</td>\n",
       "      <td>2013</td>\n",
       "    </tr>\n",
       "  </tbody>\n",
       "</table>\n",
       "</div>"
      ],
      "text/plain": [
       "   Term  BorrowerAPR EmploymentStatus  EmploymentStatusDuration  \\\n",
       "0    36      0.16516    Self-employed                         2   \n",
       "1    36      0.12016         Employed                        44   \n",
       "2    36      0.28269    Not available                         0   \n",
       "3    36      0.12528         Employed                       113   \n",
       "4    36      0.24614         Employed                        44   \n",
       "\n",
       "   IsBorrowerHomeowner  CurrentCreditLines  DebtToIncomeRatio  \\\n",
       "0                 True                   5               0.17   \n",
       "1                False                  14               0.18   \n",
       "2                False                   0               0.06   \n",
       "3                 True                   5               0.15   \n",
       "4                 True                  19               0.26   \n",
       "\n",
       "   StatedMonthlyIncome  LoanOriginalAmount LoanOriginationDate  \\\n",
       "0                 3083                9425          2007-09-12   \n",
       "1                 6125               10000          2014-03-03   \n",
       "2                 2083                3001          2007-01-17   \n",
       "3                 2875               10000          2012-11-01   \n",
       "4                 9583               15000          2013-09-20   \n",
       "\n",
       "  LoanOriginationQuarter CreditRating  CreditScoreRangeAverage  \\\n",
       "0                     Q3            C                      649   \n",
       "1                     Q1            A                      689   \n",
       "2                     Q1           HR                      489   \n",
       "3                     Q4            A                      809   \n",
       "4                     Q3            D                      689   \n",
       "\n",
       "   LoanOriginationYear  \n",
       "0                 2007  \n",
       "1                 2014  \n",
       "2                 2007  \n",
       "3                 2012  \n",
       "4                 2013  "
      ]
     },
     "execution_count": 468,
     "metadata": {},
     "output_type": "execute_result"
    }
   ],
   "source": [
    "# Would like to round the monthly income to integers as well\n",
    "loans_apr.loc[:,'StatedMonthlyIncome'] = loans_apr['StatedMonthlyIncome'].astype(int)\n",
    "loans_apr.head()"
   ]
  },
  {
   "cell_type": "code",
   "execution_count": 469,
   "metadata": {},
   "outputs": [
    {
     "data": {
      "text/plain": [
       "0"
      ]
     },
     "execution_count": 469,
     "metadata": {},
     "output_type": "execute_result"
    }
   ],
   "source": [
    "# Debt to income ratio needs to be cleaned up of null values. Let us set this to 0\n",
    "loans_apr = loans_apr.fillna(value={'DebtToIncomeRatio':0.0})\n",
    "loans_apr.DebtToIncomeRatio.isna().sum()"
   ]
  },
  {
   "cell_type": "code",
   "execution_count": 470,
   "metadata": {},
   "outputs": [
    {
     "data": {
      "text/plain": [
       "0"
      ]
     },
     "execution_count": 470,
     "metadata": {},
     "output_type": "execute_result"
    }
   ],
   "source": [
    "# Employment status too seems to have null values\n",
    "loans_apr[(loans_apr.EmploymentStatus.isna() == True) & (loans_apr.EmploymentStatusDuration > 0)].size"
   ]
  },
  {
   "cell_type": "code",
   "execution_count": 471,
   "metadata": {},
   "outputs": [
    {
     "data": {
      "text/plain": [
       "0"
      ]
     },
     "execution_count": 471,
     "metadata": {},
     "output_type": "execute_result"
    }
   ],
   "source": [
    "loans_apr[(loans_apr.EmploymentStatus == \"Not available\") & (loans_apr.EmploymentStatusDuration > 0)].size"
   ]
  },
  {
   "cell_type": "code",
   "execution_count": 472,
   "metadata": {},
   "outputs": [
    {
     "data": {
      "text/html": [
       "<div>\n",
       "<style scoped>\n",
       "    .dataframe tbody tr th:only-of-type {\n",
       "        vertical-align: middle;\n",
       "    }\n",
       "\n",
       "    .dataframe tbody tr th {\n",
       "        vertical-align: top;\n",
       "    }\n",
       "\n",
       "    .dataframe thead th {\n",
       "        text-align: right;\n",
       "    }\n",
       "</style>\n",
       "<table border=\"1\" class=\"dataframe\">\n",
       "  <thead>\n",
       "    <tr style=\"text-align: right;\">\n",
       "      <th></th>\n",
       "      <th>Term</th>\n",
       "      <th>BorrowerAPR</th>\n",
       "      <th>EmploymentStatus</th>\n",
       "      <th>EmploymentStatusDuration</th>\n",
       "      <th>IsBorrowerHomeowner</th>\n",
       "      <th>CurrentCreditLines</th>\n",
       "      <th>DebtToIncomeRatio</th>\n",
       "      <th>StatedMonthlyIncome</th>\n",
       "      <th>LoanOriginalAmount</th>\n",
       "      <th>LoanOriginationDate</th>\n",
       "      <th>LoanOriginationQuarter</th>\n",
       "      <th>CreditRating</th>\n",
       "      <th>CreditScoreRangeAverage</th>\n",
       "      <th>LoanOriginationYear</th>\n",
       "    </tr>\n",
       "  </thead>\n",
       "  <tbody>\n",
       "    <tr>\n",
       "      <th>66</th>\n",
       "      <td>36</td>\n",
       "      <td>0.16802</td>\n",
       "      <td>Not employed</td>\n",
       "      <td>1</td>\n",
       "      <td>False</td>\n",
       "      <td>4</td>\n",
       "      <td>0.2</td>\n",
       "      <td>860</td>\n",
       "      <td>1000</td>\n",
       "      <td>2007-04-17</td>\n",
       "      <td>Q2</td>\n",
       "      <td>D</td>\n",
       "      <td>629</td>\n",
       "      <td>2007</td>\n",
       "    </tr>\n",
       "    <tr>\n",
       "      <th>100</th>\n",
       "      <td>36</td>\n",
       "      <td>0.35356</td>\n",
       "      <td>Not employed</td>\n",
       "      <td>12</td>\n",
       "      <td>False</td>\n",
       "      <td>3</td>\n",
       "      <td>0.0</td>\n",
       "      <td>0</td>\n",
       "      <td>4000</td>\n",
       "      <td>2013-01-30</td>\n",
       "      <td>Q1</td>\n",
       "      <td>HR</td>\n",
       "      <td>729</td>\n",
       "      <td>2013</td>\n",
       "    </tr>\n",
       "    <tr>\n",
       "      <th>125</th>\n",
       "      <td>36</td>\n",
       "      <td>0.35643</td>\n",
       "      <td>Not employed</td>\n",
       "      <td>8</td>\n",
       "      <td>False</td>\n",
       "      <td>7</td>\n",
       "      <td>0.0</td>\n",
       "      <td>0</td>\n",
       "      <td>5000</td>\n",
       "      <td>2011-05-26</td>\n",
       "      <td>Q2</td>\n",
       "      <td>E</td>\n",
       "      <td>649</td>\n",
       "      <td>2011</td>\n",
       "    </tr>\n",
       "    <tr>\n",
       "      <th>170</th>\n",
       "      <td>36</td>\n",
       "      <td>0.28851</td>\n",
       "      <td>Not employed</td>\n",
       "      <td>9</td>\n",
       "      <td>True</td>\n",
       "      <td>7</td>\n",
       "      <td>0.0</td>\n",
       "      <td>0</td>\n",
       "      <td>10000</td>\n",
       "      <td>2012-04-17</td>\n",
       "      <td>Q2</td>\n",
       "      <td>D</td>\n",
       "      <td>769</td>\n",
       "      <td>2012</td>\n",
       "    </tr>\n",
       "    <tr>\n",
       "      <th>186</th>\n",
       "      <td>36</td>\n",
       "      <td>0.35797</td>\n",
       "      <td>Not employed</td>\n",
       "      <td>7</td>\n",
       "      <td>False</td>\n",
       "      <td>3</td>\n",
       "      <td>0.0</td>\n",
       "      <td>0</td>\n",
       "      <td>4000</td>\n",
       "      <td>2012-02-16</td>\n",
       "      <td>Q1</td>\n",
       "      <td>HR</td>\n",
       "      <td>669</td>\n",
       "      <td>2012</td>\n",
       "    </tr>\n",
       "  </tbody>\n",
       "</table>\n",
       "</div>"
      ],
      "text/plain": [
       "     Term  BorrowerAPR EmploymentStatus  EmploymentStatusDuration  \\\n",
       "66     36      0.16802     Not employed                         1   \n",
       "100    36      0.35356     Not employed                        12   \n",
       "125    36      0.35643     Not employed                         8   \n",
       "170    36      0.28851     Not employed                         9   \n",
       "186    36      0.35797     Not employed                         7   \n",
       "\n",
       "     IsBorrowerHomeowner  CurrentCreditLines  DebtToIncomeRatio  \\\n",
       "66                 False                   4                0.2   \n",
       "100                False                   3                0.0   \n",
       "125                False                   7                0.0   \n",
       "170                 True                   7                0.0   \n",
       "186                False                   3                0.0   \n",
       "\n",
       "     StatedMonthlyIncome  LoanOriginalAmount LoanOriginationDate  \\\n",
       "66                   860                1000          2007-04-17   \n",
       "100                    0                4000          2013-01-30   \n",
       "125                    0                5000          2011-05-26   \n",
       "170                    0               10000          2012-04-17   \n",
       "186                    0                4000          2012-02-16   \n",
       "\n",
       "    LoanOriginationQuarter CreditRating  CreditScoreRangeAverage  \\\n",
       "66                      Q2            D                      629   \n",
       "100                     Q1           HR                      729   \n",
       "125                     Q2            E                      649   \n",
       "170                     Q2            D                      769   \n",
       "186                     Q1           HR                      669   \n",
       "\n",
       "     LoanOriginationYear  \n",
       "66                  2007  \n",
       "100                 2013  \n",
       "125                 2011  \n",
       "170                 2012  \n",
       "186                 2012  "
      ]
     },
     "execution_count": 472,
     "metadata": {},
     "output_type": "execute_result"
    }
   ],
   "source": [
    "loans_apr[(loans_apr.EmploymentStatus == \"Not employed\") & (loans_apr.EmploymentStatusDuration > 0)].head()"
   ]
  },
  {
   "cell_type": "code",
   "execution_count": 473,
   "metadata": {},
   "outputs": [
    {
     "data": {
      "text/html": [
       "<div>\n",
       "<style scoped>\n",
       "    .dataframe tbody tr th:only-of-type {\n",
       "        vertical-align: middle;\n",
       "    }\n",
       "\n",
       "    .dataframe tbody tr th {\n",
       "        vertical-align: top;\n",
       "    }\n",
       "\n",
       "    .dataframe thead th {\n",
       "        text-align: right;\n",
       "    }\n",
       "</style>\n",
       "<table border=\"1\" class=\"dataframe\">\n",
       "  <thead>\n",
       "    <tr style=\"text-align: right;\">\n",
       "      <th></th>\n",
       "      <th>Term</th>\n",
       "      <th>BorrowerAPR</th>\n",
       "      <th>EmploymentStatus</th>\n",
       "      <th>EmploymentStatusDuration</th>\n",
       "      <th>IsBorrowerHomeowner</th>\n",
       "      <th>CurrentCreditLines</th>\n",
       "      <th>DebtToIncomeRatio</th>\n",
       "      <th>StatedMonthlyIncome</th>\n",
       "      <th>LoanOriginalAmount</th>\n",
       "      <th>LoanOriginationDate</th>\n",
       "      <th>LoanOriginationQuarter</th>\n",
       "      <th>CreditRating</th>\n",
       "      <th>CreditScoreRangeAverage</th>\n",
       "      <th>LoanOriginationYear</th>\n",
       "    </tr>\n",
       "  </thead>\n",
       "  <tbody>\n",
       "    <tr>\n",
       "      <th>15</th>\n",
       "      <td>36</td>\n",
       "      <td>0.35797</td>\n",
       "      <td>Other</td>\n",
       "      <td>121</td>\n",
       "      <td>True</td>\n",
       "      <td>10</td>\n",
       "      <td>0.49</td>\n",
       "      <td>5500</td>\n",
       "      <td>4000</td>\n",
       "      <td>2012-04-19</td>\n",
       "      <td>Q2</td>\n",
       "      <td>HR</td>\n",
       "      <td>709</td>\n",
       "      <td>2012</td>\n",
       "    </tr>\n",
       "    <tr>\n",
       "      <th>22</th>\n",
       "      <td>36</td>\n",
       "      <td>0.35356</td>\n",
       "      <td>Other</td>\n",
       "      <td>68</td>\n",
       "      <td>False</td>\n",
       "      <td>9</td>\n",
       "      <td>9.20</td>\n",
       "      <td>118</td>\n",
       "      <td>4000</td>\n",
       "      <td>2013-02-05</td>\n",
       "      <td>Q1</td>\n",
       "      <td>HR</td>\n",
       "      <td>709</td>\n",
       "      <td>2013</td>\n",
       "    </tr>\n",
       "    <tr>\n",
       "      <th>31</th>\n",
       "      <td>36</td>\n",
       "      <td>0.35797</td>\n",
       "      <td>Other</td>\n",
       "      <td>44</td>\n",
       "      <td>False</td>\n",
       "      <td>0</td>\n",
       "      <td>0.04</td>\n",
       "      <td>2250</td>\n",
       "      <td>2000</td>\n",
       "      <td>2012-09-27</td>\n",
       "      <td>Q3</td>\n",
       "      <td>HR</td>\n",
       "      <td>689</td>\n",
       "      <td>2012</td>\n",
       "    </tr>\n",
       "    <tr>\n",
       "      <th>34</th>\n",
       "      <td>36</td>\n",
       "      <td>0.22966</td>\n",
       "      <td>Other</td>\n",
       "      <td>426</td>\n",
       "      <td>True</td>\n",
       "      <td>6</td>\n",
       "      <td>0.17</td>\n",
       "      <td>4058</td>\n",
       "      <td>10000</td>\n",
       "      <td>2014-02-27</td>\n",
       "      <td>Q1</td>\n",
       "      <td>C</td>\n",
       "      <td>649</td>\n",
       "      <td>2014</td>\n",
       "    </tr>\n",
       "    <tr>\n",
       "      <th>38</th>\n",
       "      <td>36</td>\n",
       "      <td>0.08930</td>\n",
       "      <td>Other</td>\n",
       "      <td>539</td>\n",
       "      <td>True</td>\n",
       "      <td>19</td>\n",
       "      <td>0.14</td>\n",
       "      <td>6000</td>\n",
       "      <td>7000</td>\n",
       "      <td>2013-08-22</td>\n",
       "      <td>Q3</td>\n",
       "      <td>AA</td>\n",
       "      <td>809</td>\n",
       "      <td>2013</td>\n",
       "    </tr>\n",
       "  </tbody>\n",
       "</table>\n",
       "</div>"
      ],
      "text/plain": [
       "    Term  BorrowerAPR EmploymentStatus  EmploymentStatusDuration  \\\n",
       "15    36      0.35797            Other                       121   \n",
       "22    36      0.35356            Other                        68   \n",
       "31    36      0.35797            Other                        44   \n",
       "34    36      0.22966            Other                       426   \n",
       "38    36      0.08930            Other                       539   \n",
       "\n",
       "    IsBorrowerHomeowner  CurrentCreditLines  DebtToIncomeRatio  \\\n",
       "15                 True                  10               0.49   \n",
       "22                False                   9               9.20   \n",
       "31                False                   0               0.04   \n",
       "34                 True                   6               0.17   \n",
       "38                 True                  19               0.14   \n",
       "\n",
       "    StatedMonthlyIncome  LoanOriginalAmount LoanOriginationDate  \\\n",
       "15                 5500                4000          2012-04-19   \n",
       "22                  118                4000          2013-02-05   \n",
       "31                 2250                2000          2012-09-27   \n",
       "34                 4058               10000          2014-02-27   \n",
       "38                 6000                7000          2013-08-22   \n",
       "\n",
       "   LoanOriginationQuarter CreditRating  CreditScoreRangeAverage  \\\n",
       "15                     Q2           HR                      709   \n",
       "22                     Q1           HR                      709   \n",
       "31                     Q3           HR                      689   \n",
       "34                     Q1            C                      649   \n",
       "38                     Q3           AA                      809   \n",
       "\n",
       "    LoanOriginationYear  \n",
       "15                 2012  \n",
       "22                 2013  \n",
       "31                 2012  \n",
       "34                 2014  \n",
       "38                 2013  "
      ]
     },
     "execution_count": 473,
     "metadata": {},
     "output_type": "execute_result"
    }
   ],
   "source": [
    "loans_apr[(loans_apr.EmploymentStatus == \"Other\") & (loans_apr.EmploymentStatusDuration > 0)].head()"
   ]
  },
  {
   "cell_type": "code",
   "execution_count": 474,
   "metadata": {},
   "outputs": [
    {
     "data": {
      "text/plain": [
       "Employed         67322\n",
       "Full-time        26355\n",
       "Not available     7602\n",
       "Self-employed     6134\n",
       "Other             3806\n",
       "Part-time         1088\n",
       "Not employed       835\n",
       "Retired            795\n",
       "Name: EmploymentStatus, dtype: int64"
      ]
     },
     "execution_count": 474,
     "metadata": {},
     "output_type": "execute_result"
    }
   ],
   "source": [
    "# Above checks means that all NaN status are in the status Not available and so we'll set it accordingly.\n",
    "loans_apr = loans_apr.fillna(value={'EmploymentStatus':'Not available'})\n",
    "loans_apr.loc[:,'EmploymentStatus'].value_counts()"
   ]
  },
  {
   "cell_type": "code",
   "execution_count": 511,
   "metadata": {},
   "outputs": [
    {
     "name": "stdout",
     "output_type": "stream",
     "text": [
      "<class 'pandas.core.frame.DataFrame'>\n",
      "RangeIndex: 113937 entries, 0 to 113936\n",
      "Data columns (total 14 columns):\n",
      "Term                        113937 non-null int64\n",
      "BorrowerAPR                 113912 non-null float64\n",
      "EmploymentStatus            113937 non-null object\n",
      "EmploymentStatusDuration    113937 non-null int64\n",
      "IsBorrowerHomeowner         113937 non-null bool\n",
      "CurrentCreditLines          113937 non-null int64\n",
      "DebtToIncomeRatio           113937 non-null float64\n",
      "StatedMonthlyIncome         113937 non-null int64\n",
      "LoanOriginalAmount          113937 non-null int64\n",
      "LoanOriginationDate         113937 non-null datetime64[ns]\n",
      "LoanOriginationQuarter      113937 non-null category\n",
      "CreditRating                113796 non-null category\n",
      "CreditScoreRangeAverage     113937 non-null int64\n",
      "LoanOriginationYear         113937 non-null int64\n",
      "dtypes: bool(1), category(2), datetime64[ns](1), float64(2), int64(7), object(1)\n",
      "memory usage: 9.9+ MB\n"
     ]
    }
   ],
   "source": [
    "# Checking the fields\n",
    "loans_apr.info()"
   ]
  },
  {
   "cell_type": "code",
   "execution_count": 476,
   "metadata": {},
   "outputs": [
    {
     "data": {
      "text/html": [
       "<div>\n",
       "<style scoped>\n",
       "    .dataframe tbody tr th:only-of-type {\n",
       "        vertical-align: middle;\n",
       "    }\n",
       "\n",
       "    .dataframe tbody tr th {\n",
       "        vertical-align: top;\n",
       "    }\n",
       "\n",
       "    .dataframe thead th {\n",
       "        text-align: right;\n",
       "    }\n",
       "</style>\n",
       "<table border=\"1\" class=\"dataframe\">\n",
       "  <thead>\n",
       "    <tr style=\"text-align: right;\">\n",
       "      <th></th>\n",
       "      <th>Term</th>\n",
       "      <th>BorrowerAPR</th>\n",
       "      <th>EmploymentStatusDuration</th>\n",
       "      <th>CurrentCreditLines</th>\n",
       "      <th>DebtToIncomeRatio</th>\n",
       "      <th>StatedMonthlyIncome</th>\n",
       "      <th>LoanOriginalAmount</th>\n",
       "      <th>CreditScoreRangeAverage</th>\n",
       "      <th>LoanOriginationYear</th>\n",
       "    </tr>\n",
       "  </thead>\n",
       "  <tbody>\n",
       "    <tr>\n",
       "      <th>count</th>\n",
       "      <td>113937.000000</td>\n",
       "      <td>113912.000000</td>\n",
       "      <td>113937.000000</td>\n",
       "      <td>113937.000000</td>\n",
       "      <td>113937.000000</td>\n",
       "      <td>1.139370e+05</td>\n",
       "      <td>113937.00000</td>\n",
       "      <td>113937.000000</td>\n",
       "      <td>113937.000000</td>\n",
       "    </tr>\n",
       "    <tr>\n",
       "      <th>mean</th>\n",
       "      <td>40.830248</td>\n",
       "      <td>0.218828</td>\n",
       "      <td>89.642188</td>\n",
       "      <td>9.628637</td>\n",
       "      <td>0.255229</td>\n",
       "      <td>5.607707e+03</td>\n",
       "      <td>8337.01385</td>\n",
       "      <td>690.964954</td>\n",
       "      <td>2011.042611</td>\n",
       "    </tr>\n",
       "    <tr>\n",
       "      <th>std</th>\n",
       "      <td>10.436212</td>\n",
       "      <td>0.080364</td>\n",
       "      <td>94.369148</td>\n",
       "      <td>5.867722</td>\n",
       "      <td>0.535602</td>\n",
       "      <td>7.478491e+03</td>\n",
       "      <td>6245.80058</td>\n",
       "      <td>82.965091</td>\n",
       "      <td>2.506634</td>\n",
       "    </tr>\n",
       "    <tr>\n",
       "      <th>min</th>\n",
       "      <td>12.000000</td>\n",
       "      <td>0.006530</td>\n",
       "      <td>0.000000</td>\n",
       "      <td>0.000000</td>\n",
       "      <td>0.000000</td>\n",
       "      <td>0.000000e+00</td>\n",
       "      <td>1000.00000</td>\n",
       "      <td>0.000000</td>\n",
       "      <td>2005.000000</td>\n",
       "    </tr>\n",
       "    <tr>\n",
       "      <th>25%</th>\n",
       "      <td>36.000000</td>\n",
       "      <td>0.156290</td>\n",
       "      <td>19.000000</td>\n",
       "      <td>6.000000</td>\n",
       "      <td>0.130000</td>\n",
       "      <td>3.200000e+03</td>\n",
       "      <td>4000.00000</td>\n",
       "      <td>669.000000</td>\n",
       "      <td>2008.000000</td>\n",
       "    </tr>\n",
       "    <tr>\n",
       "      <th>50%</th>\n",
       "      <td>36.000000</td>\n",
       "      <td>0.209760</td>\n",
       "      <td>60.000000</td>\n",
       "      <td>9.000000</td>\n",
       "      <td>0.210000</td>\n",
       "      <td>4.666000e+03</td>\n",
       "      <td>6500.00000</td>\n",
       "      <td>689.000000</td>\n",
       "      <td>2012.000000</td>\n",
       "    </tr>\n",
       "    <tr>\n",
       "      <th>75%</th>\n",
       "      <td>36.000000</td>\n",
       "      <td>0.283810</td>\n",
       "      <td>130.000000</td>\n",
       "      <td>13.000000</td>\n",
       "      <td>0.310000</td>\n",
       "      <td>6.825000e+03</td>\n",
       "      <td>12000.00000</td>\n",
       "      <td>729.000000</td>\n",
       "      <td>2013.000000</td>\n",
       "    </tr>\n",
       "    <tr>\n",
       "      <th>max</th>\n",
       "      <td>60.000000</td>\n",
       "      <td>0.512290</td>\n",
       "      <td>755.000000</td>\n",
       "      <td>59.000000</td>\n",
       "      <td>10.010000</td>\n",
       "      <td>1.750002e+06</td>\n",
       "      <td>35000.00000</td>\n",
       "      <td>889.000000</td>\n",
       "      <td>2014.000000</td>\n",
       "    </tr>\n",
       "  </tbody>\n",
       "</table>\n",
       "</div>"
      ],
      "text/plain": [
       "                Term    BorrowerAPR  EmploymentStatusDuration  \\\n",
       "count  113937.000000  113912.000000             113937.000000   \n",
       "mean       40.830248       0.218828                 89.642188   \n",
       "std        10.436212       0.080364                 94.369148   \n",
       "min        12.000000       0.006530                  0.000000   \n",
       "25%        36.000000       0.156290                 19.000000   \n",
       "50%        36.000000       0.209760                 60.000000   \n",
       "75%        36.000000       0.283810                130.000000   \n",
       "max        60.000000       0.512290                755.000000   \n",
       "\n",
       "       CurrentCreditLines  DebtToIncomeRatio  StatedMonthlyIncome  \\\n",
       "count       113937.000000      113937.000000         1.139370e+05   \n",
       "mean             9.628637           0.255229         5.607707e+03   \n",
       "std              5.867722           0.535602         7.478491e+03   \n",
       "min              0.000000           0.000000         0.000000e+00   \n",
       "25%              6.000000           0.130000         3.200000e+03   \n",
       "50%              9.000000           0.210000         4.666000e+03   \n",
       "75%             13.000000           0.310000         6.825000e+03   \n",
       "max             59.000000          10.010000         1.750002e+06   \n",
       "\n",
       "       LoanOriginalAmount  CreditScoreRangeAverage  LoanOriginationYear  \n",
       "count        113937.00000            113937.000000        113937.000000  \n",
       "mean           8337.01385               690.964954          2011.042611  \n",
       "std            6245.80058                82.965091             2.506634  \n",
       "min            1000.00000                 0.000000          2005.000000  \n",
       "25%            4000.00000               669.000000          2008.000000  \n",
       "50%            6500.00000               689.000000          2012.000000  \n",
       "75%           12000.00000               729.000000          2013.000000  \n",
       "max           35000.00000               889.000000          2014.000000  "
      ]
     },
     "execution_count": 476,
     "metadata": {},
     "output_type": "execute_result"
    }
   ],
   "source": [
    "# finally describe this subset of data\n",
    "loans_apr.describe()"
   ]
  },
  {
   "cell_type": "markdown",
   "metadata": {},
   "source": [
    "## Univariate Exploration\n",
    "\n",
    "> In this section, investigate distributions of individual variables. If\n",
    "you see unusual points or outliers, take a deeper look to clean things up\n",
    "and prepare yourself to look at relationships between variables."
   ]
  },
  {
   "cell_type": "markdown",
   "metadata": {},
   "source": [
    "### 1. Distribution of Loan Terms?"
   ]
  },
  {
   "cell_type": "code",
   "execution_count": 477,
   "metadata": {},
   "outputs": [
    {
     "data": {
      "image/png": "[encoded data removed]",
      "text/plain": [
       "<Figure size 432x288 with 1 Axes>"
      ]
     },
     "metadata": {
      "needs_background": "light"
     },
     "output_type": "display_data"
    }
   ],
   "source": [
    "plt.hist(loans_apr['Term'])\n",
    "plt.show();"
   ]
  },
  {
   "cell_type": "code",
   "execution_count": 478,
   "metadata": {},
   "outputs": [
    {
     "data": {
      "text/plain": [
       "36    87778\n",
       "60    24545\n",
       "12     1614\n",
       "Name: Term, dtype: int64"
      ]
     },
     "execution_count": 478,
     "metadata": {},
     "output_type": "execute_result"
    }
   ],
   "source": [
    "loans_apr['Term'].value_counts()"
   ]
  },
  {
   "cell_type": "markdown",
   "metadata": {},
   "source": [
    "`Observations:` There are only 3 term periods that all loans fall into - 12, 36, and 60 months with 80% of listings opting for a 36 month loan period. Any further investigation will be skewed."
   ]
  },
  {
   "cell_type": "markdown",
   "metadata": {},
   "source": [
    "### 2. Distribution of BorrowerAPR?"
   ]
  },
  {
   "cell_type": "code",
   "execution_count": 479,
   "metadata": {},
   "outputs": [
    {
     "data": {
      "image/png": "[encoded data removed]",
      "text/plain": [
       "<Figure size 432x288 with 1 Axes>"
      ]
     },
     "metadata": {
      "needs_background": "light"
     },
     "output_type": "display_data"
    }
   ],
   "source": [
    "bin_edges = np.arange(0,0.55,0.01)\n",
    "plt.hist(loans_apr['BorrowerAPR'], bins=bin_edges)\n",
    "plt.show();"
   ]
  },
  {
   "cell_type": "code",
   "execution_count": 480,
   "metadata": {},
   "outputs": [
    {
     "data": {
      "text/plain": [
       "0    0.35797\n",
       "dtype: float64"
      ]
     },
     "execution_count": 480,
     "metadata": {},
     "output_type": "execute_result"
    }
   ],
   "source": [
    "loans_apr['BorrowerAPR'].mode()"
   ]
  },
  {
   "cell_type": "markdown",
   "metadata": {},
   "source": [
    "`Observations:` The distribution of APR is mostly normal except for a specific APR which has a peak at around .36"
   ]
  },
  {
   "cell_type": "markdown",
   "metadata": {},
   "source": [
    "### 3. Distribution of employment status duration?"
   ]
  },
  {
   "cell_type": "code",
   "execution_count": 481,
   "metadata": {},
   "outputs": [
    {
     "name": "stdout",
     "output_type": "stream",
     "text": [
      "2.8785217955012063\n",
      "0.0\n"
     ]
    }
   ],
   "source": [
    "print(np.log10((loans_apr['EmploymentStatusDuration'] + 1).max()))\n",
    "print(np.log10((loans_apr['EmploymentStatusDuration'] + 1).min()))"
   ]
  },
  {
   "cell_type": "code",
   "execution_count": 482,
   "metadata": {},
   "outputs": [
    {
     "data": {
      "image/png": "[encoded data removed]",
      "text/plain": [
       "<Figure size 720x360 with 2 Axes>"
      ]
     },
     "metadata": {
      "needs_background": "light"
     },
     "output_type": "display_data"
    }
   ],
   "source": [
    "plt.figure(figsize=(10,5))\n",
    "\n",
    "plt.subplot(1,2,1)\n",
    "bin_edges = np.arange(0, loans_apr['EmploymentStatusDuration'].max()+12, 12)\n",
    "plt.hist(loans_apr['EmploymentStatusDuration'], bins = bin_edges)\n",
    "\n",
    "plt.subplot(1,2,2)\n",
    "bin_edges_log = 10 ** np.arange(0, np.log10((loans_apr['EmploymentStatusDuration']+1).max()) + 0.1, 0.1)\n",
    "plt.hist(loans_apr['EmploymentStatusDuration'] + 1, bins = bin_edges_log)\n",
    "plt.xscale('log')\n",
    "xticks = [1,3,10,30,50,100,300,1000]\n",
    "xlabels = np.asarray(xticks) - 1\n",
    "plt.xticks(xticks, xlabels)\n",
    "plt.show();"
   ]
  },
  {
   "cell_type": "markdown",
   "metadata": {},
   "source": [
    "`Observations:` The intitial distributions shows a highly right skewed plot. This is due to the extremely high incidence of no or very low employment durations among the population. Upon taking a log scale on the x-axis we see a largely normal distribution of employment durations with a peak around 96 months, except for the large spike at 0."
   ]
  },
  {
   "cell_type": "markdown",
   "metadata": {},
   "source": [
    "### 4. Distribution of Credit Lines"
   ]
  },
  {
   "cell_type": "code",
   "execution_count": 483,
   "metadata": {},
   "outputs": [
    {
     "data": {
      "image/png": "[encoded data removed]",
      "text/plain": [
       "<Figure size 432x288 with 1 Axes>"
      ]
     },
     "metadata": {
      "needs_background": "light"
     },
     "output_type": "display_data"
    }
   ],
   "source": [
    "bin_edges = np.arange(0,55,1)\n",
    "plt.hist(loans_apr['CurrentCreditLines'], bins = bin_edges)\n",
    "plt.show();"
   ]
  },
  {
   "cell_type": "markdown",
   "metadata": {},
   "source": [
    "`Observations`: We see a slightly right skewed distribution peaking at 10"
   ]
  },
  {
   "cell_type": "markdown",
   "metadata": {},
   "source": [
    "### 5. Distribution of Debt to Income ratio"
   ]
  },
  {
   "cell_type": "code",
   "execution_count": 484,
   "metadata": {},
   "outputs": [
    {
     "data": {
      "image/png": "[encoded data removed]",
      "text/plain": [
       "<Figure size 720x360 with 2 Axes>"
      ]
     },
     "metadata": {
      "needs_background": "light"
     },
     "output_type": "display_data"
    }
   ],
   "source": [
    "plt.figure(figsize=(10,5))\n",
    "\n",
    "plt.subplot(1,2,1)\n",
    "bin_edges = np.arange(0, loans_apr.DebtToIncomeRatio.max()+.05,.05)\n",
    "plt.hist(loans_apr['DebtToIncomeRatio'], bins=bin_edges)\n",
    "plt.xlim(0,1.5)\n",
    "\n",
    "plt.subplot(1,2,2)\n",
    "bin_edges_log = 10 ** np.arange(0, np.log10((loans_apr['DebtToIncomeRatio']+1).max())+.01,.01)\n",
    "plt.hist(loans_apr['DebtToIncomeRatio']+1, bins=bin_edges_log)\n",
    "plt.xscale('log')\n",
    "xticks = [1,1.2,1.5,2,3]\n",
    "xlabels = [0,0.2,0.5]\n",
    "plt.xticks(xticks, xlabels)\n",
    "plt.xlim(1,1.8)\n",
    "plt.show();"
   ]
  },
  {
   "cell_type": "code",
   "execution_count": 485,
   "metadata": {},
   "outputs": [
    {
     "data": {
      "text/plain": [
       "5264"
      ]
     },
     "execution_count": 485,
     "metadata": {},
     "output_type": "execute_result"
    }
   ],
   "source": [
    "(loans_apr.DebtToIncomeRatio > .5).sum()"
   ]
  },
  {
   "cell_type": "markdown",
   "metadata": {},
   "source": [
    "`Observations:` Again a very right skewed distribution curve. Most of the values seems to be concentrated around 0.2"
   ]
  },
  {
   "cell_type": "markdown",
   "metadata": {},
   "source": [
    "### 6. Distribution of Monthly Income"
   ]
  },
  {
   "cell_type": "code",
   "execution_count": 486,
   "metadata": {},
   "outputs": [
    {
     "data": {
      "image/png": "[encoded data removed]",
      "text/plain": [
       "<Figure size 432x288 with 1 Axes>"
      ]
     },
     "metadata": {
      "needs_background": "light"
     },
     "output_type": "display_data"
    }
   ],
   "source": [
    "bin_edges = np.arange(0,loans_apr.StatedMonthlyIncome.max()+500, 500)\n",
    "plt.hist(loans_apr['StatedMonthlyIncome'], bins=bin_edges)\n",
    "plt.xlim(0,15000)\n",
    "plt.show();"
   ]
  },
  {
   "cell_type": "code",
   "execution_count": 487,
   "metadata": {},
   "outputs": [
    {
     "data": {
      "text/plain": [
       "0.9733098115625302"
      ]
     },
     "execution_count": 487,
     "metadata": {},
     "output_type": "execute_result"
    }
   ],
   "source": [
    "(loans_apr.StatedMonthlyIncome < 15000).sum() / loans_apr.shape[0]"
   ]
  },
  {
   "cell_type": "markdown",
   "metadata": {},
   "source": [
    "`Observations`: Extremely right skewed distribution of monthly incomes. It is normal in the range of 0-15000 and then tapers off sharply thereafter. However 97% of the data points reside within this range, so the remaining could be treated as outliers."
   ]
  },
  {
   "cell_type": "markdown",
   "metadata": {},
   "source": [
    "### 7. Distribution of Loan Amount"
   ]
  },
  {
   "cell_type": "code",
   "execution_count": 488,
   "metadata": {},
   "outputs": [
    {
     "data": {
      "image/png": "[encoded data removed]",
      "text/plain": [
       "<Figure size 720x360 with 2 Axes>"
      ]
     },
     "metadata": {
      "needs_background": "light"
     },
     "output_type": "display_data"
    }
   ],
   "source": [
    "plt.figure(figsize=(10,5))\n",
    "plt.subplot(1,2,1)\n",
    "bin_edges = np.arange(0,36000,1000)\n",
    "plt.hist(loans_apr['LoanOriginalAmount'], bins=bin_edges)\n",
    "\n",
    "plt.subplot(1,2,2)\n",
    "bin_edges = 10 ** np.arange(3,np.log10(35000)+0.05,0.05)\n",
    "plt.hist(loans_apr['LoanOriginalAmount'], bins=bin_edges)\n",
    "plt.xscale('log')\n",
    "xticks = [1000,1500,2000,3000,4000,5000,10000,15000,20000,25000,30000]\n",
    "xlabels=['1k','1.5','2k','3k','4k','5k','10k','15k','20k','','30k']\n",
    "plt.xticks(xticks, xlabels)\n",
    "plt.show();"
   ]
  },
  {
   "cell_type": "markdown",
   "metadata": {},
   "source": [
    "`Observations:` The original plot without any transformation is right skewed, however there are interesting patterns of peaks at predictable intervals. Upon taking the log transformation, the peaks are very easily identifiable on an otherwise normal distribution. The peaks are at round figures for loan amounts of 1k, 1.5k, 2k, 3k, 4k, 10k, 15k."
   ]
  },
  {
   "cell_type": "markdown",
   "metadata": {},
   "source": [
    "### 8. Distribution of Average Credit Score Range"
   ]
  },
  {
   "cell_type": "code",
   "execution_count": 499,
   "metadata": {},
   "outputs": [
    {
     "data": {
      "image/png": "[encoded data removed]",
      "text/plain": [
       "<Figure size 432x288 with 1 Axes>"
      ]
     },
     "metadata": {
      "needs_background": "light"
     },
     "output_type": "display_data"
    }
   ],
   "source": [
    "bin_edges = np.arange(0,loans_apr.CreditScoreRangeAverage.max()+10,10)\n",
    "plt.hist(loans_apr['CreditScoreRangeAverage'], bins=bin_edges)\n",
    "plt.xlim(400,900)\n",
    "plt.show();"
   ]
  },
  {
   "cell_type": "markdown",
   "metadata": {},
   "source": [
    "`Observations:`: Mostly normal distribution around the range where maximum data is present, maybe slightly left skewed. Most credit scores are distributed between 650 and 750."
   ]
  },
  {
   "cell_type": "markdown",
   "metadata": {},
   "source": [
    "### 9. Distribution of Credit Rating"
   ]
  },
  {
   "cell_type": "code",
   "execution_count": 512,
   "metadata": {},
   "outputs": [
    {
     "data": {
      "image/png": "[encoded data removed]",
      "text/plain": [
       "<Figure size 432x288 with 1 Axes>"
      ]
     },
     "metadata": {
      "needs_background": "light"
     },
     "output_type": "display_data"
    }
   ],
   "source": [
    "sb.countplot(data=loans_apr, x='CreditRating', color=base_color)\n",
    "plt.show();"
   ]
  },
  {
   "cell_type": "markdown",
   "metadata": {},
   "source": [
    "`Observations:` Interestingly this distribution is fairly normal. A large number of loans have been given out where the rating was between D and B."
   ]
  },
  {
   "cell_type": "markdown",
   "metadata": {},
   "source": [
    "### 10. Distribution of Origination Year"
   ]
  },
  {
   "cell_type": "code",
   "execution_count": 501,
   "metadata": {},
   "outputs": [
    {
     "data": {
      "image/png": "[encoded data removed]",
      "text/plain": [
       "<Figure size 432x288 with 1 Axes>"
      ]
     },
     "metadata": {
      "needs_background": "light"
     },
     "output_type": "display_data"
    }
   ],
   "source": [
    "base_color = sb.color_palette()[0]\n",
    "sb.countplot(data=loans_apr, x='LoanOriginationYear', color=base_color)\n",
    "plt.show();"
   ]
  },
  {
   "cell_type": "code",
   "execution_count": 505,
   "metadata": {},
   "outputs": [
    {
     "name": "stdout",
     "output_type": "stream",
     "text": [
      "2005-11-15 00:00:00\n",
      "2014-03-12 00:00:00\n"
     ]
    }
   ],
   "source": [
    "print(loans_apr.LoanOriginationDate.min())\n",
    "print(loans_apr.LoanOriginationDate.max())"
   ]
  },
  {
   "cell_type": "markdown",
   "metadata": {},
   "source": [
    "`Observations:` Data in 2005 and 2014 is not available for the whole year. Other than that, there seems to be a lull in 2009 and post that the number of loans offered is quadratically increasing. "
   ]
  },
  {
   "cell_type": "markdown",
   "metadata": {},
   "source": [
    "### 11. Distribution Quarter-wise"
   ]
  },
  {
   "cell_type": "code",
   "execution_count": 516,
   "metadata": {},
   "outputs": [
    {
     "data": {
      "image/png": "[encoded data removed]",
      "text/plain": [
       "<Figure size 432x288 with 1 Axes>"
      ]
     },
     "metadata": {
      "needs_background": "light"
     },
     "output_type": "display_data"
    }
   ],
   "source": [
    "sb.countplot(data=loans_apr, x='LoanOriginationQuarter', color=base_color)\n",
    "plt.show();"
   ]
  },
  {
   "cell_type": "markdown",
   "metadata": {},
   "source": [
    "`Observations:` Nothing significant here. Loans given out in every quarter is mostly identical."
   ]
  },
  {
   "cell_type": "markdown",
   "metadata": {},
   "source": [
    "### 12. Distribution by isHomeOwner"
   ]
  },
  {
   "cell_type": "code",
   "execution_count": 517,
   "metadata": {},
   "outputs": [
    {
     "data": {
      "image/png": "[encoded data removed]",
      "text/plain": [
       "<Figure size 432x288 with 1 Axes>"
      ]
     },
     "metadata": {
      "needs_background": "light"
     },
     "output_type": "display_data"
    }
   ],
   "source": [
    "sb.countplot(data=loans_apr, x='IsBorrowerHomeowner', color=base_color)\n",
    "plt.show();"
   ]
  },
  {
   "cell_type": "markdown",
   "metadata": {},
   "source": [
    "`Observations:` The distribution is evenly mathched between home owners and non home owners."
   ]
  },
  {
   "cell_type": "markdown",
   "metadata": {},
   "source": [
    "### 13. Distribution by Employment Status"
   ]
  },
  {
   "cell_type": "code",
   "execution_count": 519,
   "metadata": {},
   "outputs": [
    {
     "data": {
      "image/png": "[encoded data removed]",
      "text/plain": [
       "<Figure size 1440x360 with 1 Axes>"
      ]
     },
     "metadata": {
      "needs_background": "light"
     },
     "output_type": "display_data"
    }
   ],
   "source": [
    "plt.figure(figsize=(20,5))\n",
    "sb.countplot(data=loans_apr, x='EmploymentStatus', color=base_color)\n",
    "plt.show();"
   ]
  },
  {
   "cell_type": "markdown",
   "metadata": {},
   "source": [
    "`Observations:` Most applicants are Employed or Full-time employed."
   ]
  },
  {
   "cell_type": "markdown",
   "metadata": {},
   "source": [
    "### Discuss the distribution(s) of your variable(s) of interest. Were there any unusual points? Did you need to perform any transformations?\n",
    "\n",
    "> Your answer here!\n",
    "\n",
    "### Of the features you investigated, were there any unusual distributions? Did you perform any operations on the data to tidy, adjust, or change the form of the data? If so, why did you do this?\n",
    "\n",
    "> Your answer here!"
   ]
  },
  {
   "cell_type": "markdown",
   "metadata": {},
   "source": [
    "## Bivariate Exploration\n",
    "\n",
    "> In this section, investigate relationships between pairs of variables in your\n",
    "data. Make sure the variables that you cover here have been introduced in some\n",
    "fashion in the previous section (univariate exploration)."
   ]
  },
  {
   "cell_type": "code",
   "execution_count": null,
   "metadata": {},
   "outputs": [],
   "source": []
  },
  {
   "cell_type": "markdown",
   "metadata": {},
   "source": [
    "### Talk about some of the relationships you observed in this part of the investigation. How did the feature(s) of interest vary with other features in the dataset?\n",
    "\n",
    "> Your answer here!\n",
    "\n",
    "### Did you observe any interesting relationships between the other features (not the main feature(s) of interest)?\n",
    "\n",
    "> Your answer here!"
   ]
  },
  {
   "cell_type": "markdown",
   "metadata": {},
   "source": [
    "## Multivariate Exploration\n",
    "\n",
    "> Create plots of three or more variables to investigate your data even\n",
    "further. Make sure that your investigations are justified, and follow from\n",
    "your work in the previous sections."
   ]
  },
  {
   "cell_type": "code",
   "execution_count": null,
   "metadata": {},
   "outputs": [],
   "source": []
  },
  {
   "cell_type": "markdown",
   "metadata": {},
   "source": [
    "### Talk about some of the relationships you observed in this part of the investigation. Were there features that strengthened each other in terms of looking at your feature(s) of interest?\n",
    "\n",
    "> Your answer here!\n",
    "\n",
    "### Were there any interesting or surprising interactions between features?\n",
    "\n",
    "> Your answer here!"
   ]
  },
  {
   "cell_type": "markdown",
   "metadata": {},
   "source": [
    "> At the end of your report, make sure that you export the notebook as an\n",
    "html file from the `File > Download as... > HTML` menu. Make sure you keep\n",
    "track of where the exported file goes, so you can put it in the same folder\n",
    "as this notebook for project submission. Also, make sure you remove all of\n",
    "the quote-formatted guide notes like this one before you finish your report!"
   ]
  },
  {
   "cell_type": "code",
   "execution_count": null,
   "metadata": {},
   "outputs": [],
   "source": []
  }
 ],
 "metadata": {
  "kernelspec": {
   "display_name": "Python 3",
   "language": "python",
   "name": "python3"
  },
  "language_info": {
   "codemirror_mode": {
    "name": "ipython",
    "version": 3
   },
   "file_extension": ".py",
   "mimetype": "text/x-python",
   "name": "python",
   "nbconvert_exporter": "python",
   "pygments_lexer": "ipython3",
   "version": "3.7.3"
  }
 },
 "nbformat": 4,
 "nbformat_minor": 2
}
